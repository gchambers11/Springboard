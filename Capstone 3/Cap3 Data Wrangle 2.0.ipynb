{
 "cells": [
  {
   "cell_type": "code",
   "execution_count": 1,
   "id": "aquatic-discharge",
   "metadata": {},
   "outputs": [],
   "source": [
    "import pandas as pd\n",
    "import numpy as np\n",
    "import matplotlib.pyplot as plt\n",
    "import seaborn as sns\n",
    "import re\n",
    "from collections import Counter"
   ]
  },
  {
   "cell_type": "markdown",
   "id": "elementary-ladder",
   "metadata": {},
   "source": [
    "# Data Loading and Some Initial Exploration"
   ]
  },
  {
   "cell_type": "code",
   "execution_count": 345,
   "id": "guilty-fellowship",
   "metadata": {},
   "outputs": [
    {
     "name": "stdout",
     "output_type": "stream",
     "text": [
      "<class 'pandas.core.frame.DataFrame'>\n",
      "RangeIndex: 56571 entries, 0 to 56570\n",
      "Data columns (total 8 columns):\n",
      " #   Column    Non-Null Count  Dtype         \n",
      "---  ------    --------------  -----         \n",
      " 0   id        56571 non-null  int64         \n",
      " 1   text      56571 non-null  object        \n",
      " 2   device    56571 non-null  object        \n",
      " 3   likes     56571 non-null  int64         \n",
      " 4   retweets  56571 non-null  int64         \n",
      " 5   date      56571 non-null  datetime64[ns]\n",
      " 6   month     56571 non-null  int64         \n",
      " 7   year      56571 non-null  int64         \n",
      "dtypes: datetime64[ns](1), int64(5), object(2)\n",
      "memory usage: 3.5+ MB\n",
      "None\n"
     ]
    }
   ],
   "source": [
    "df = pd.read_csv('trump_tweets.csv')\n",
    "df.date = pd.to_datetime(df.date)\n",
    "df = df.rename(columns={\"favorites\":\"likes\"})\n",
    "df['month'] = df.date.apply(lambda x: x.month)\n",
    "df['year'] = df.date.apply(lambda x: x.year)\n",
    "print(df.info())"
   ]
  },
  {
   "cell_type": "code",
   "execution_count": 349,
   "id": "faced-advertising",
   "metadata": {},
   "outputs": [
    {
     "data": {
      "image/png": "[encoded data removed]",
      "text/plain": [
       "<Figure size 432x288 with 1 Axes>"
      ]
     },
     "metadata": {
      "needs_background": "light"
     },
     "output_type": "display_data"
    }
   ],
   "source": [
    "tweets_per_year = df.groupby('year').agg('count')['id']\n",
    "_ = sns.scatterplot(data=tweets_per_year)\n",
    "plt.ylabel('tweets')\n",
    "plt.show()"
   ]
  },
  {
   "cell_type": "code",
   "execution_count": 49,
   "id": "contemporary-twelve",
   "metadata": {},
   "outputs": [
    {
     "name": "stdout",
     "output_type": "stream",
     "text": [
      "RT @JohnWHuber: There are the receipts. Those are the facts. The actual documents that anyone can look up for themselves.\n",
      "\n",
      "Real journalists…\n",
      "\n",
      ".@IvankaTrump’s @FoxNewsSunday “Power Player of the Week” interview with Chris Wallace http://t.co/SyPAQRw0gi\n",
      "\n",
      "\"\"\"@bijobijo: @realDonaldTrump run for president, clear cut, stop the nonsense of current fools.\"\"\"\n",
      "\n",
      "What I am saying is that we never should have been in Iraq in the first place. Bush was terrible, Obama is worse! Make America GREAT again.\n",
      "\n",
      "“What America Needs: The Case for Trump” Great new book by the esteemed Jeffrey Lord @JeffJlpa1 Available now. https://t.co/xeHKbIDApr\n",
      "\n",
      "We’ve done a GREAT job on Covid response, making all Governors look good, some fantastic (and that’s OK), but the Lamestream Media doesn’t want to go with that narrative, and the Do Nothing Dems talking point is to say only bad about “Trump”. I made everybody look good, but me!\n",
      "\n",
      "Today we announced vital new actions that we are taking to help former inmates find a job, live a crime-free life, and succeed beyond their dreams....https://t.co/BBQ8gpFunJ\n",
      "\n",
      "Washington is simply incapable of any moderation because @BarackObama is such an extreme leftist.  He must be defeated. #TImeToGetTough.\n",
      "\n",
      "Democrats don't want massive tax cuts - how does that win elections? Great reviews for Tax Cut and Reform Bill.\n",
      "\n",
      "Pres @BarackObama expects @MittRomney to play nice like @SenJohnMcCain--it's not going to happen &amp, the result is going to be much different.\n",
      "\n",
      "RT @WhiteHouse: Our nationwide positive Coronavirus test rate is on the decline. https://t.co/Vp0y0KHDK4\n",
      "\n",
      "Reverend Wright was dumped like a dog by @BarackObama--he can't be feeling too good.\n",
      "\n",
      "Thank you Lou! https://t.co/edjugpzH0i\n",
      "\n",
      "RT @SenCoryGardner: I’m amazed by the Coloradans who work every day to protect Colorado’s forests and are now helping fight the horrible wi...\n",
      "\n",
      "Who's the outsourcer? @BarackObama's campaign is using a travel company with outsourced jobs in China and India. http://t.co/rW8CaIsc\n",
      "\n",
      "I love New York, but New York can never be great again under the current leadership of Governor Andrew Cuomo (the brother if Fredo), or Mayor Bill DeBlasio. Cuomo has weaponized the prosecutors to do his dirty work (and to keep him out of jams), a reason some don’t want to be...\n",
      "\n",
      "\"\"\"@politico: Palin on 2016: \"\"I think it would come down to Cruz and Trump!  https://t.co/jSNS5Yv7Pt | Getty https://t.co/y5wN0AhK0E\"\"\"\n",
      "\n",
      "RT @SenBillCassidy: Did anyone else just get chills? \n",
      "\n",
      "We. Are. Back. 🚀🇺🇸\n",
      "\n",
      "Finished off the year with the highest Stock Market in history. Setting records with your 401k’s, just like I said you would. Congratulations to all!\n",
      "\n",
      "\"\"\"@business: What it’s like to play @realDonaldTrump’s New York City golf course http://t.co/OsGhBGxDEQ http://t.co/fH8HJHwVgT\"\"\"\n",
      "\n"
     ]
    }
   ],
   "source": [
    "for item in np.random.choice(df.text,20):\n",
    "    print(item)\n",
    "    print()"
   ]
  },
  {
   "cell_type": "code",
   "execution_count": 315,
   "id": "preceding-defensive",
   "metadata": {},
   "outputs": [
    {
     "name": "stdout",
     "output_type": "stream",
     "text": [
      "\"\"\"We have to combat the welfare mentality that says individuals are entitled to live off taxpayers.\"\" #TimeToGetTough\"\n",
      "\n",
      "\"\"\"So, if Iran is going to take over the oil, I say we take over the oil first by hammering out a cost-sharing plan with Iraq.\"\"#TimeToGetTough\"\n",
      "\n",
      "\"\"\"Newsmax is a great news org and and its pres debate in IA on 12-27 will be fair, balanced , and informative.\"\" @ralphreed\"\n",
      "\n",
      "\"\"\"What is a bit appealing about this idea of Trump hosting a debate is, consider the diverse audience that perh... (cont) http://t.co/AkcMZp0I\"\n",
      "\n",
      "\"\"\"The Architect\"\" @KarlRove is directly responsible for losing both houses & @BarackObama becoming President. Ignore him.\"\n",
      "\n",
      "\"\"\"Sometimes understanding other people's problems is the key to finding opportunities.\"\"  -- Midas Touch w/@atheRealKiyosaki\"\n",
      "\n",
      "\"\"\"Everyone makes mistakes, but it's what you do with them and what you learn from them that matters.\"\" -- Midas Touch\"\n",
      "\n",
      "\"\"\"Sleepy\"\" Chuck Todd of NBC falls far short of the late great Tim Russert.\"\n",
      "\n",
      "\"\"\"If you're going to think--think big\"\" --- The Art of the Deal\"\n",
      "\n",
      "\"\"\"It  doesn't cost any money to think bigger.\"\"  -- The Art of the Deal\"\n",
      "\n",
      "\"\"\"Never quit and always hit back\"\" -- The Art of the Comeback\"\n",
      "\n",
      "\"\"\"Know when to walk away from the table.\"\" The Art of the Deal\"\n",
      "\n",
      "\"\"\"Increasing America’s debt weakens us domestically and internationally.\"\" - US Senator @BarackObama, 2007\"\n",
      "\n",
      "\"\"\"The Gang of Six\"\" - yet another unmitigated disaster. ANY DEAL NEEDS TO REPEAL OBAMACARE. T-E-A.\"\n",
      "\n",
      "\"\"\"China is our enemy--they want to destroy us\"\" -- Redstate Interview\"\n",
      "\n",
      "\"\"\"True courage is being afraid, and going ahead and doing your job anyhow, that's what courage is. \"\" - Gen. Norman Schwarzkopf (1934-2012)\"\n",
      "\n",
      "\"\"\"Donald Trump: GOP Has ‘Nuclear Weapon’ In Fiscal Cliff Negotiation, But They Don’t Know It\"\" http://t.co/nOelhtkI via @mediaite\"\n",
      "\n",
      "\"\"\"Work hard, play hard and live to the hilt.\"\" - Think Like a Billionaire\"\n",
      "\n",
      "\"\"\"I find hope in the darkest of days, and focus in the brightest.\"\" - Dalai Lama\"\n",
      "\n"
     ]
    }
   ],
   "source": [
    "quote_count = df.text.apply(lambda x: '\"\"\"' in x[:5]).sum()\n",
    "foo = df[df.text.apply(lambda x: '\"\"\"' in x[:5])][41:60]\n",
    "for item in foo.text:\n",
    "    print(item)\n",
    "    print()"
   ]
  },
  {
   "cell_type": "code",
   "execution_count": 334,
   "id": "lyric-respondent",
   "metadata": {},
   "outputs": [],
   "source": [
    "# THIS WHOLE BOX IS OBSOLETE\n",
    "\n",
    "# Confirm if a tweet has a person manually entered as being quoted and return that person.\n",
    "def quote_check(input_text):\n",
    "    output = False\n",
    "    person = ''\n",
    "    t = input_text.split()\n",
    "    for word in t:\n",
    "        if '-' in word[:3] and len(word)>=3:\n",
    "            output=True\n",
    "            person = word\n",
    "    return output, person\n",
    "\n",
    "# Find the tweets that are quotes\n",
    "# Of those, find those that have user added text (A)\n",
    "# Of (A), determine if it's a 'manual' quote attribution. Only keep DJT\n",
    "# Of (A), determine the quote has a hashtag.\n",
    "def quote_slicer(input_text):\n",
    "    output_text = input_text\n",
    "    if input_text[:3] == '\"\"\"':\n",
    "        if input_text[-3] == '\"\"\"':\n",
    "            output_text = ''\n",
    "        else:\n",
    "            result, person = quote_check(input_text)\n",
    "            if result and ('donald' in person.lower()):\n",
    "                return output_text\n",
    "            \n",
    "            index = input_text[3:].find['\"\"']+3\n",
    "            if index > 2:\n",
    "                user_response = input_text[index:-1]\n",
    "                return user_response\n",
    "                                            \n",
    "    return output_text"
   ]
  },
  {
   "cell_type": "code",
   "execution_count": 350,
   "id": "worse-carry",
   "metadata": {},
   "outputs": [
    {
     "data": {
      "text/plain": [
       "148"
      ]
     },
     "execution_count": 350,
     "metadata": {},
     "output_type": "execute_result"
    }
   ],
   "source": [
    "foo = df[df.text.apply(lambda x: (x[:3] == '\"\"\"') & (x[-1] == '\"') & (x[-2] != '\"'))]\n",
    "foo = foo.text.apply(lambda x: quote_check(x))\n",
    "foo2 = [x[1] for x in foo if x[0]]\n",
    "len(foo2)"
   ]
  },
  {
   "cell_type": "code",
   "execution_count": null,
   "id": "descending-tooth",
   "metadata": {},
   "outputs": [],
   "source": []
  },
  {
   "cell_type": "code",
   "execution_count": 344,
   "id": "analyzed-generator",
   "metadata": {},
   "outputs": [
    {
     "name": "stdout",
     "output_type": "stream",
     "text": [
      "\"\"\"Trading Shots with Donald Trump\"\"--a great article in the Wall Street Journalhttp://bit.ly/c9eZbq\"\n",
      "\n",
      "\"\"\"Before Kids Can Go Places, They Need a Place To Go\"\" -- the motto of The Police Athletic League, an organization I'm  very proud to support\"\n",
      "\n",
      "\"\"\"It's important that we help poor people to become independent, self-sufficient individuals who gain the benefits of work.\"\" #TimeToGetTough\"\n",
      "\n",
      "\"\"\"Obamacare has to be killed now before it grows into an even bigger mess, as it inevitably will.\"\" #TimeToGetTough\"\n",
      "\n",
      "\"\"\"The sad truth is some Republicans in Congress are clueless when it comes to negotiation.\"\"  #TimeToGetTough\"\n",
      "\n",
      "\"\"\"He thinks that the wealth you create belongs to the government--@BarackObama doesn't respect the fact that the (cont) http://t.co/D66nscyB\"\n",
      "\n",
      "\"\"\"People who have the ability to work should. But with the government happy to send checks, too many of them don't.\"\" #TimeToGetTough\"\n",
      "\n",
      "\"\"\"When are we going to wake up and realize that we are funding our enemies?\"\"  #TimeToGetTough\"\n",
      "\n",
      "\"\"\"It's a plain fact: free trade requires having fair rules that apply to everyone.\"\"#TimeToGetTough\"\n",
      "\n",
      "\"\"\"We need a tax system that is fair and smart--one that encourages growth, savings, and investment.\"\" #TimeToGetTough\"\n",
      "\n",
      "\"\"\"I believe this book will rock a lot of people. Don't just read #TImeToGetTough but share it with your friends and family!\"\" -RushLimbaugh\"\n",
      "\n",
      "\"\"\"Let me put this as plainly as I know how: Iran's nuclear program must be stopped--by any and all means necessary. Period.\"\" #TimeToGetTough\"\n",
      "\n",
      "\"\"\"We have to combat the welfare mentality that says individuals are entitled to live off taxpayers.\"\" #TimeToGetTough\"\n",
      "\n",
      "\"\"\"So, if Iran is going to take over the oil, I say we take over the oil first by hammering out a cost-sharing plan with Iraq.\"\"#TimeToGetTough\"\n",
      "\n",
      "\"\"\"Newsmax is a great news org and and its pres debate in IA on 12-27 will be fair, balanced , and informative.\"\" @ralphreed\"\n",
      "\n",
      "\"\"\"What is a bit appealing about this idea of Trump hosting a debate is, consider the diverse audience that perh... (cont) http://t.co/AkcMZp0I\"\n",
      "\n",
      "\"\"\"The Architect\"\" @KarlRove is directly responsible for losing both houses & @BarackObama becoming President. Ignore him.\"\n",
      "\n",
      "\"\"\"Sometimes understanding other people's problems is the key to finding opportunities.\"\"  -- Midas Touch w/@atheRealKiyosaki\"\n",
      "\n",
      "\"\"\"Everyone makes mistakes, but it's what you do with them and what you learn from them that matters.\"\" -- Midas Touch\"\n",
      "\n"
     ]
    }
   ],
   "source": [
    "foo = df[df.text.apply(lambda x: ('\"\"\"' in x[:5]) & (x[-1] == '\"') & (x[-2] != '\"'))][21:40]\n",
    "for item in foo.text:\n",
    "    print(item)\n",
    "    print()"
   ]
  },
  {
   "cell_type": "code",
   "execution_count": null,
   "id": "selective-remove",
   "metadata": {},
   "outputs": [],
   "source": []
  },
  {
   "cell_type": "code",
   "execution_count": 308,
   "id": "auburn-brunei",
   "metadata": {},
   "outputs": [
    {
     "name": "stdout",
     "output_type": "stream",
     "text": [
      "RT @WhiteHouse: We continue to monitor Tropical Storm Isaias closely. https://t.co/qKSVWpXCoy\n",
      "\n",
      "RT @SpaceX: Starship takes flight https://t.co/IWvwcA05hl\n",
      "\n",
      "RT @GOP: Only 4️⃣ days until ELECTION DAY!\n",
      " \n",
      "https://t.co/lQYB8jZfOp https://t.co/UnAKx6zXV6\n",
      "\n",
      "RT @GOP: America is roaring back!\n",
      " \n",
      "To continue progress like this, we NEED #FourMoreYears of @realDonaldTrump!\n",
      " \n",
      "https://t.co/lQYB8jZfOp h…\n",
      "\n",
      "RT @TeamTrump: First Lady Melania Trump: “We are a country of hope, not a country of fear or weakness.” https://t.co/9n1841cdA6\n",
      "\n",
      "RT @GOPChairwoman: The media’s silence and lack of reporting about Biden’s pay-for-play scheme with China is ridiculous. https://t.co/cX1ck…\n",
      "\n",
      "RT @realDonaldTrump: GEORGIA! https://t.co/xhsIPAmp6S\n",
      "\n",
      "RT @realDailyWire: BREAKING: Texas Files Lawsuit Against 4 States At Supreme Court Over Election Rules https://t.co/02NMyVWcO9 https://t.co…\n",
      "\n",
      "RT @HeyTammyBruce: 🚨 Excellent news. “Texas Sues Georgia, Michigan, Pennsylvania, and Wisconsin at Supreme Court over Election Rules” https…\n",
      "\n",
      "RT @GrrrGraphics: You don't mess with #Texas! https://t.co/4M4PD7qkWl\n",
      "\n",
      "RT @TheSolariReport: Tectonic plates are shifting https://t.co/WXY6kgLEvi\n",
      "\n",
      "RT @ColumbiaBugle: God Bless Texas!\n",
      "\n",
      "https://t.co/ldDvZ5ykKp\n",
      "\n",
      "RT @WhiteHouse: LIVE: Operation Warp Speed Vaccine Summit https://t.co/ul5LUXKQWp\n",
      "\n",
      "RT @WhiteHouse: Before Operation Warp Speed, the typical timeline for vaccine development and approval lasted years. https://t.co/fvVehwRWXn\n",
      "\n",
      "RT @JackPosobiec: Why did CNN cut her off after she destroyed their Islamophobia hoax? https://t.co/zYepQbVqn8\n",
      "\n",
      "RT @JackPosobiec: “Teen stabbed about 100 times and set on fire in MS-13 murder, police say” https://t.co/Xrj1j9h7qe\n",
      "\n",
      "RT @Lancegooden: Everybody's got their own OPINIONS about election fraud. \n",
      "\n",
      "I'm not interested in opinions. I want FACTS. https://t.co/nFtm…\n",
      "\n",
      "RT @nypost: We’re baaaaaaack https://t.co/D39qdLGMdV https://t.co/SkVtp4o9ew\n",
      "\n",
      "RT @JoeConchaTV: Democrats uneasy about higher Republican turnout in important Florida county - CNNPolitics https://t.co/eLLduzvdzJ\n",
      "\n",
      "RT @joecollins43rd: Let's get Maxine Waters out of office!\n",
      "\n",
      "Go vote Joe Collins early before election day. We can win this. https://t.co/XI…\n",
      "\n"
     ]
    }
   ],
   "source": [
    "hyperlink_count = df.text.apply(lambda x: \"https:\" in x).sum()\n",
    "retweet_count = df.text.apply(lambda x: 'RT' in x[:5]).sum()\n",
    "rt_link_count = df.text.apply(lambda x: (\"https:\" in x) & (\"RT\" in x[:5])).sum()\n",
    "\n",
    "foo = df[df.text.apply(lambda x: (\"https\" in x) & (\"RT\" in x[:5]))][200:220]\n",
    "for item in foo.text:\n",
    "    print(item)\n",
    "    print()"
   ]
  },
  {
   "cell_type": "code",
   "execution_count": 36,
   "id": "nutritional-territory",
   "metadata": {},
   "outputs": [],
   "source": [
    "foo = df[df.text.apply(lambda x: \"RT\" in x[:5])][:20]"
   ]
  },
  {
   "cell_type": "code",
   "execution_count": 46,
   "id": "distinguished-discharge",
   "metadata": {},
   "outputs": [
    {
     "data": {
      "text/plain": [
       "'RT @GOPChairwoman: The economic boom continues!\\n\\n273K jobs added in February \\n\\n7M+ jobs added since @realDonaldTrump was elected\\n\\nUnemploym…'"
      ]
     },
     "execution_count": 46,
     "metadata": {},
     "output_type": "execute_result"
    }
   ],
   "source": [
    "foo.iloc[4].text"
   ]
  },
  {
   "cell_type": "code",
   "execution_count": 33,
   "id": "geographic-xerox",
   "metadata": {},
   "outputs": [
    {
     "name": "stdout",
     "output_type": "stream",
     "text": [
      "The total number of tweets is; 56571\n",
      "The number of tweets with quotes: 11558\n",
      "The number of tweets with retweets: 10016\n",
      "The number of tweets with hyperlinks: 11511\n",
      "The number of tweets with RT and links: 2870\n"
     ]
    }
   ],
   "source": [
    "print(f'The total number of tweets is; {len(df)}')\n",
    "print(f'The number of tweets with quotes: {quote_count}')\n",
    "print(f'The number of tweets with retweets: {retweet_count}')\n",
    "print(f'The number of tweets with hyperlinks: {hyperlink_count}')\n",
    "print(f'The number of tweets with RT and links: {rt_link_count}')"
   ]
  },
  {
   "cell_type": "markdown",
   "id": "muslim-adams",
   "metadata": {},
   "source": [
    "# Data Cleaning Tasks\n",
    "## 1. &amp\n",
    "## 2. \\n\n",
    "## 3. hyperlinks\n",
    "## 4. Twitter Functionality?\n",
    "    a. Quotes\n",
    "    b. Retweets\n",
    "    c. @'s\n",
    "    d. #'s"
   ]
  },
  {
   "cell_type": "code",
   "execution_count": 294,
   "id": "human-toddler",
   "metadata": {},
   "outputs": [],
   "source": [
    "clean_df = df.copy()"
   ]
  },
  {
   "cell_type": "code",
   "execution_count": 351,
   "id": "assigned-disco",
   "metadata": {
    "scrolled": false
   },
   "outputs": [],
   "source": [
    "foo = 0\n",
    "for item in clean_df[clean_df.text.apply(lambda x: (x[-1:] == '\"') & (x[-2] != '\"') & (x[0] == '\"'))][:35].text:\n",
    "    #print(foo)\n",
    "    foo+=1\n",
    "    #print(item)\n",
    "    #print()"
   ]
  },
  {
   "cell_type": "code",
   "execution_count": null,
   "id": "floppy-empire",
   "metadata": {},
   "outputs": [],
   "source": [
    "# Cleaner Functions\n",
    "\n",
    "def split_ampersands(input_string):\n",
    "    split = input_string.split('&')\n",
    "    output = ''\n",
    "    for item in split:\n",
    "        output += item +'& '\n",
    "    return output[:-2]\n",
    "\n",
    "def white_space_remover(input_df):\n",
    "    while input_df.text.apply(lambda x: '  ' in x).sum() > 0:\n",
    "        input_df.text = input_df.text.apply(lambda x: x.replace('  ', ' '))\n",
    "\n",
    "def hyperlink_remover(input_text):\n",
    "    t = input_text.split()\n",
    "    output_string = \"\"\n",
    "    for word in t:\n",
    "        if \"http\" in word:\n",
    "            start=word.find(\"http\")\n",
    "            s = \" \" + word[:start]\n",
    "            output_string += s\n",
    "            output_string = output_string.strip()\n",
    "        else:\n",
    "            output_string += (\" \" + word)\n",
    "            output_string = output_string.strip()\n",
    "    return output_string\n",
    "\n"
   ]
  },
  {
   "cell_type": "code",
   "execution_count": null,
   "id": "congressional-charge",
   "metadata": {},
   "outputs": [],
   "source": [
    "# Full Clean\n",
    "\n",
    "def text_cleaner(input_df):\n",
    "    output_df = input_df.copy()\n",
    "    \n",
    "    # Clean up HTML escape characters\n",
    "    input_df['text'] = input_df.text.apply(lambda x: x.replace('&amp;', '&')).apply(lambda x: x.replace('&amp','&'))\n",
    "    input_df['text'] = input_df.text.apply(lambda x: x.replace('&,', '&')).apply(lambda x: x.replace('&,', '&'))\n",
    "    input_df['text'] = input_df.text.apply(lambda x: x.replace('&…', '...')).apply(lambda x: x.replace('&...', '...'))\n",
    "    input_df['text'] = input_df.text.apply(lambda x: x.replace('&gt;', '>')).apply(lambda x: x.replace('&gt','>'))\n",
    "    input_df['text'] = input_df.text.apply(lambda x: x.replace('&lt;', '<')).apply(lambda x: x.replace('&lt','<'))\n",
    "    \n",
    "    # Fix ampersands\n",
    "    input_df['text'] = input_df.text.apply(lambda x: split_ampersands(x)) \n",
    "    white_space_remover(input_df)\n",
    "    \n",
    "    # Clean out new line characters\n",
    "    while input_df.text.apply(lambda x: ' \\n' in x).sum() >0 :\n",
    "    input_df['text'] = input_df.text.apply(lambda x: x.replace(' \\n', '. '))\n",
    "    white_space_remover(input_df)\n",
    "    \n",
    "    while input_df.text.apply(lambda x: '\\n' in x).sum() > 0:\n",
    "    input_df['text'] = input_df.text.apply(lambda x: x.replace('\\n', '. '))\n",
    "    white_space_remover(input_df)\n",
    "    \n",
    "    # Reove hyperlinks\n",
    "    input_df['text'] = input_df.text.apply(lambda x: hyperlink_remover(x))\n",
    "    white_space_remover(input_df)"
   ]
  },
  {
   "cell_type": "code",
   "execution_count": 295,
   "id": "formed-hebrew",
   "metadata": {},
   "outputs": [],
   "source": [
    "# Cleaning up the & escape characters\n",
    "clean_df['text'] = clean_df.text.apply(lambda x: x.replace('&amp;', '&')).apply(lambda x: x.replace('&amp','&'))\n",
    "clean_df['text'] = clean_df.text.apply(lambda x: x.replace('&,', '&')).apply(lambda x: x.replace('&,', '&'))\n",
    "clean_df['text'] = clean_df.text.apply(lambda x: x.replace('&…', '...')).apply(lambda x: x.replace('&...', '...'))\n",
    "clean_df['text'] = clean_df.text.apply(lambda x: x.replace('&gt;', '>')).apply(lambda x: x.replace('&gt','>'))\n",
    "clean_df['text'] = clean_df.text.apply(lambda x: x.replace('&lt;', '<')).apply(lambda x: x.replace('&lt','<'))"
   ]
  },
  {
   "cell_type": "code",
   "execution_count": 296,
   "id": "polyphonic-ancient",
   "metadata": {},
   "outputs": [],
   "source": [
    "def split_ampersands(input_string):\n",
    "    split = input_string.split('&')\n",
    "    output = ''\n",
    "    for item in split:\n",
    "        output += item +'& '\n",
    "    return output[:-2]\n",
    "\n",
    "clean_df['text'] = clean_df.text.apply(lambda x: split_ampersands(x))    "
   ]
  },
  {
   "cell_type": "code",
   "execution_count": 297,
   "id": "responsible-dance",
   "metadata": {},
   "outputs": [
    {
     "data": {
      "text/plain": [
       "'what should & I do'"
      ]
     },
     "execution_count": 297,
     "metadata": {},
     "output_type": "execute_result"
    }
   ],
   "source": [
    "split_ampersands('what should &I do')"
   ]
  },
  {
   "cell_type": "code",
   "execution_count": 298,
   "id": "native-pearl",
   "metadata": {},
   "outputs": [
    {
     "name": "stdout",
     "output_type": "stream",
     "text": [
      "& : 5557\n"
     ]
    }
   ],
   "source": [
    "from collections import Counter\n",
    "counter = Counter()\n",
    "for item in clean_df.text:\n",
    "    for word in item.split():\n",
    "        if word[0] == '&':\n",
    "            counter[word]+=1\n",
    "\n",
    "for word in counter.keys():\n",
    "    print(f'{word} : {counter[word]}')"
   ]
  },
  {
   "cell_type": "code",
   "execution_count": 299,
   "id": "terminal-canon",
   "metadata": {},
   "outputs": [],
   "source": [
    "# Cleaning up spaces\n",
    "def white_space_remover(input_df):\n",
    "    while input_df.text.apply(lambda x: '  ' in x).sum() > 0:\n",
    "        input_df.text = input_df.text.apply(lambda x: x.replace('  ', ' '))\n",
    "\n",
    "white_space_remover(clean_df)"
   ]
  },
  {
   "cell_type": "code",
   "execution_count": 300,
   "id": "medieval-runner",
   "metadata": {},
   "outputs": [],
   "source": [
    "while clean_df.text.apply(lambda x: ' \\n' in x).sum() >0 :\n",
    "    clean_df['text'] = clean_df.text.apply(lambda x: x.replace(' \\n', '. '))\n",
    "    white_space_remover(clean_df)\n",
    "    \n",
    "while clean_df.text.apply(lambda x: '\\n' in x).sum() > 0:\n",
    "    clean_df['text'] = clean_df.text.apply(lambda x: x.replace('\\n', '. '))\n",
    "    white_space_remover(clean_df)"
   ]
  },
  {
   "cell_type": "code",
   "execution_count": 301,
   "id": "front-concept",
   "metadata": {},
   "outputs": [],
   "source": [
    "# Make a method to strip out the hyperlinks\n",
    "def hyperlink_remover(input_text):\n",
    "    t = input_text.split()\n",
    "    output_string = \"\"\n",
    "    for word in t:\n",
    "        if \"http\" in word:\n",
    "            start=word.find(\"http\")\n",
    "            s = \" \" + word[:start]\n",
    "            output_string += s\n",
    "            output_string = output_string.strip()\n",
    "        else:\n",
    "            output_string += (\" \" + word)\n",
    "            output_string = output_string.strip()\n",
    "    return output_string"
   ]
  },
  {
   "cell_type": "code",
   "execution_count": 302,
   "id": "marked-capability",
   "metadata": {},
   "outputs": [],
   "source": [
    "clean_df['text'] = clean_df.text.apply(lambda x: hyperlink_remover(x))\n",
    "white_space_remover(clean_df)"
   ]
  },
  {
   "cell_type": "code",
   "execution_count": 303,
   "id": "infrared-truck",
   "metadata": {},
   "outputs": [],
   "source": [
    "# Clear out the tweets that got blanked out\n",
    "clean_df['text'] = clean_df.text.apply(lambda x: x if ((len(str(x))>0) & (str(x)!='nan'))else np.nan)\n",
    "clean_df.dropna(inplace=True)"
   ]
  },
  {
   "cell_type": "code",
   "execution_count": 304,
   "id": "sunset-cardiff",
   "metadata": {},
   "outputs": [
    {
     "name": "stdout",
     "output_type": "stream",
     "text": [
      "\"Dominion-izing the Vote\"\n",
      "\n",
      "\"\"\"@TheConnieMoore: @realDonaldTrump see u Sat in GA !!\"\" Great!\"\n",
      "\n",
      "\"\"\"@Ozziemae: @realDonaldTrump I love that you speak whatever's on your mind. That is true courage. Living your truth.\"\n",
      "\n",
      "\"\"\"@SirMiestro: S/O TO MY MAN @realDonaldTrump ....#SALUTE Thanks Mike.\"\n",
      "\n",
      "\"\"\"@piersmorgan: Bob Costas is one of the smartest people I've interviewed. #CNN\"\" But you told me I was the smartest (by far)!\"\n",
      "\n"
     ]
    }
   ],
   "source": [
    "for item in clean_df[clean_df.text.apply(lambda x: (x[-1:] == '\"') & (x[-2] != '\"') & (x[0] == '\"'))][:5].text:\n",
    "    print(item)\n",
    "    print()"
   ]
  },
  {
   "cell_type": "code",
   "execution_count": 306,
   "id": "addressed-survival",
   "metadata": {},
   "outputs": [
    {
     "name": "stdout",
     "output_type": "stream",
     "text": [
      "0\n",
      "\"RT @RightlyNews: \"\"What's a high priced Clinton attorney doing representing a low level IT staffer for the Democrats?\"\" -@jessebwatters on t...\"\n",
      "\n",
      "1\n",
      ".@THEGaryBusey is definitely different. #CelebApprentice\n",
      "\n",
      "2\n",
      "Sleepy Joe’s representatives have just put out an ad saying that I went to play golf (exercise) today. They think I should stay in the White House at all times. What they didn’t say is that it’s the first time I’ve played golf in almost 3 months, that Biden was constantly.....\n",
      "\n",
      "3\n",
      "RT @SenateGOP: .@SenJoniErnst:. . How did the Obama Administration react to the invasion of Ukraine?. . They reacted by sending blankets.. . Blan…\n",
      "\n",
      "4\n",
      "Congratulations to Gary Woodland in winning the United States Open Golf Championship. Fantastic playing, great heart - there will be more in Gary’s future!\n",
      "\n",
      "5\n",
      "\"\"\"@GregWallace66 Hey @Trump_Charlotte is hosting @RustyWallace Golf Classic on 5/19 benefiting @NASCAR_FDN.\"\" Rusty will have a great day!\"\n",
      "\n",
      "6\n",
      "I promise not to do this to Greenland!\n",
      "\n",
      "7\n",
      "RT @Kimberl40855897: @dbongino The rank and file know who has their back and remember no one knows who you vote for !\n",
      "\n",
      "8\n",
      "Then we attended the Scottish fashion show that benefits veterans, Dressed to Kilt 2010, which I co-hosted with Sir Sean and Lady Connery.\n",
      "\n",
      "9\n",
      "So true Don, and this was a big lie. Look what happened to Friends of Trump, for less. Can’t let this pass!\n",
      "\n"
     ]
    }
   ],
   "source": [
    "foo = 0\n",
    "for item in np.random.choice(clean_df.text,10):\n",
    "    print(foo)\n",
    "    foo +=1\n",
    "    print(item)\n",
    "    print()"
   ]
  },
  {
   "cell_type": "code",
   "execution_count": null,
   "id": "committed-region",
   "metadata": {},
   "outputs": [],
   "source": []
  }
 ],
 "metadata": {
  "kernelspec": {
   "display_name": "Python 3",
   "language": "python",
   "name": "python3"
  },
  "language_info": {
   "codemirror_mode": {
    "name": "ipython",
    "version": 3
   },
   "file_extension": ".py",
   "mimetype": "text/x-python",
   "name": "python",
   "nbconvert_exporter": "python",
   "pygments_lexer": "ipython3",
   "version": "3.9.1"
  }
 },
 "nbformat": 4,
 "nbformat_minor": 5
}
