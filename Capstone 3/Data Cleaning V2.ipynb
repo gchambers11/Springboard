{
 "cells": [
  {
   "cell_type": "markdown",
   "id": "noble-brave",
   "metadata": {},
   "source": [
    "# Summary\n",
    "\n",
    "There are two main sections.\n",
    "\n",
    "1: Basic data exploration\n",
    "\n",
    "2: Data cleaning and processing"
   ]
  },
  {
   "cell_type": "code",
   "execution_count": 19,
   "id": "southern-career",
   "metadata": {},
   "outputs": [],
   "source": [
    "import pandas as pd\n",
    "import numpy as np\n",
    "import matplotlib.pyplot as plt\n",
    "import seaborn as sns\n",
    "import re\n",
    "from collections import Counter"
   ]
  },
  {
   "cell_type": "markdown",
   "id": "sexual-nigeria",
   "metadata": {},
   "source": [
    "# Basic EDA"
   ]
  },
  {
   "cell_type": "code",
   "execution_count": 97,
   "id": "brilliant-hayes",
   "metadata": {
    "scrolled": true
   },
   "outputs": [
    {
     "name": "stdout",
     "output_type": "stream",
     "text": [
      "<class 'pandas.core.frame.DataFrame'>\n",
      "RangeIndex: 56571 entries, 0 to 56570\n",
      "Data columns (total 8 columns):\n",
      " #   Column    Non-Null Count  Dtype         \n",
      "---  ------    --------------  -----         \n",
      " 0   id        56571 non-null  int64         \n",
      " 1   text      56571 non-null  object        \n",
      " 2   device    56571 non-null  object        \n",
      " 3   likes     56571 non-null  int64         \n",
      " 4   retweets  56571 non-null  int64         \n",
      " 5   date      56571 non-null  datetime64[ns]\n",
      " 6   month     56571 non-null  int64         \n",
      " 7   year      56571 non-null  int64         \n",
      "dtypes: datetime64[ns](1), int64(5), object(2)\n",
      "memory usage: 3.5+ MB\n",
      "None\n"
     ]
    }
   ],
   "source": [
    "df = pd.read_csv('trump_tweets.csv')\n",
    "df.date = pd.to_datetime(df.date)\n",
    "df = df.sort_values(by='date').reset_index(drop=True)\n",
    "df = df.rename(columns={\"favorites\":\"likes\"})\n",
    "df['month'] = df.date.apply(lambda x: x.month)\n",
    "df['year'] = df.date.apply(lambda x: x.year)\n",
    "print(df.info())"
   ]
  },
  {
   "cell_type": "code",
   "execution_count": 98,
   "id": "union-christianity",
   "metadata": {},
   "outputs": [
    {
     "data": {
      "text/html": [
       "<div>\n",
       "<style scoped>\n",
       "    .dataframe tbody tr th:only-of-type {\n",
       "        vertical-align: middle;\n",
       "    }\n",
       "\n",
       "    .dataframe tbody tr th {\n",
       "        vertical-align: top;\n",
       "    }\n",
       "\n",
       "    .dataframe thead th {\n",
       "        text-align: right;\n",
       "    }\n",
       "</style>\n",
       "<table border=\"1\" class=\"dataframe\">\n",
       "  <thead>\n",
       "    <tr style=\"text-align: right;\">\n",
       "      <th></th>\n",
       "      <th>id</th>\n",
       "      <th>text</th>\n",
       "      <th>device</th>\n",
       "      <th>likes</th>\n",
       "      <th>retweets</th>\n",
       "      <th>date</th>\n",
       "      <th>month</th>\n",
       "      <th>year</th>\n",
       "    </tr>\n",
       "  </thead>\n",
       "  <tbody>\n",
       "    <tr>\n",
       "      <th>0</th>\n",
       "      <td>1698308935</td>\n",
       "      <td>Be sure to tune in and watch Donald Trump on L...</td>\n",
       "      <td>Twitter Web Client</td>\n",
       "      <td>939</td>\n",
       "      <td>519</td>\n",
       "      <td>2009-05-04 18:54:00</td>\n",
       "      <td>5</td>\n",
       "      <td>2009</td>\n",
       "    </tr>\n",
       "    <tr>\n",
       "      <th>1</th>\n",
       "      <td>1701461182</td>\n",
       "      <td>Donald Trump will be appearing on The View tom...</td>\n",
       "      <td>Twitter Web Client</td>\n",
       "      <td>259</td>\n",
       "      <td>34</td>\n",
       "      <td>2009-05-05 01:00:00</td>\n",
       "      <td>5</td>\n",
       "      <td>2009</td>\n",
       "    </tr>\n",
       "    <tr>\n",
       "      <th>2</th>\n",
       "      <td>1737479987</td>\n",
       "      <td>Donald Trump reads Top Ten Financial Tips on L...</td>\n",
       "      <td>Twitter Web Client</td>\n",
       "      <td>37</td>\n",
       "      <td>15</td>\n",
       "      <td>2009-05-08 13:38:00</td>\n",
       "      <td>5</td>\n",
       "      <td>2009</td>\n",
       "    </tr>\n",
       "    <tr>\n",
       "      <th>3</th>\n",
       "      <td>1741160716</td>\n",
       "      <td>New Blog Post: Celebrity Apprentice Finale and...</td>\n",
       "      <td>Twitter Web Client</td>\n",
       "      <td>29</td>\n",
       "      <td>11</td>\n",
       "      <td>2009-05-08 20:40:00</td>\n",
       "      <td>5</td>\n",
       "      <td>2009</td>\n",
       "    </tr>\n",
       "    <tr>\n",
       "      <th>4</th>\n",
       "      <td>1773561338</td>\n",
       "      <td>\"\"\"My persona will never be that of a wallflow...</td>\n",
       "      <td>Twitter Web Client</td>\n",
       "      <td>1877</td>\n",
       "      <td>1321</td>\n",
       "      <td>2009-05-12 14:07:00</td>\n",
       "      <td>5</td>\n",
       "      <td>2009</td>\n",
       "    </tr>\n",
       "  </tbody>\n",
       "</table>\n",
       "</div>"
      ],
      "text/plain": [
       "           id                                               text  \\\n",
       "0  1698308935  Be sure to tune in and watch Donald Trump on L...   \n",
       "1  1701461182  Donald Trump will be appearing on The View tom...   \n",
       "2  1737479987  Donald Trump reads Top Ten Financial Tips on L...   \n",
       "3  1741160716  New Blog Post: Celebrity Apprentice Finale and...   \n",
       "4  1773561338  \"\"\"My persona will never be that of a wallflow...   \n",
       "\n",
       "               device  likes  retweets                date  month  year  \n",
       "0  Twitter Web Client    939       519 2009-05-04 18:54:00      5  2009  \n",
       "1  Twitter Web Client    259        34 2009-05-05 01:00:00      5  2009  \n",
       "2  Twitter Web Client     37        15 2009-05-08 13:38:00      5  2009  \n",
       "3  Twitter Web Client     29        11 2009-05-08 20:40:00      5  2009  \n",
       "4  Twitter Web Client   1877      1321 2009-05-12 14:07:00      5  2009  "
      ]
     },
     "execution_count": 98,
     "metadata": {},
     "output_type": "execute_result"
    }
   ],
   "source": [
    "df.head()"
   ]
  },
  {
   "cell_type": "code",
   "execution_count": 94,
   "id": "banner-sessions",
   "metadata": {},
   "outputs": [
    {
     "data": {
      "image/png": "[encoded data removed]",
      "text/plain": [
       "<Figure size 432x288 with 1 Axes>"
      ]
     },
     "metadata": {
      "needs_background": "light"
     },
     "output_type": "display_data"
    }
   ],
   "source": [
    "tweets_per_year = df.groupby('year').agg('count')['id']\n",
    "_ = sns.scatterplot(data=tweets_per_year)\n",
    "plt.ylabel('tweets')\n",
    "plt.title('DT Tweets per year')\n",
    "plt.show()"
   ]
  },
  {
   "cell_type": "code",
   "execution_count": 251,
   "id": "great-outreach",
   "metadata": {},
   "outputs": [],
   "source": [
    "def at_mention(text):\n",
    "    text = text.split()\n",
    "    targets = []\n",
    "    remove_chars = r'[:.\\\\!,\\\"?;()/=$#~`\\'\\[\\]-]'\n",
    "    for word in text:\n",
    "        if '@' in word:\n",
    "            w = re.sub(remove_chars, '', word).strip()\n",
    "            if w[0] != '@':\n",
    "                w = w[w.find('@'):]\n",
    "            targets.append(w)\n",
    "    if len(targets) == 0:\n",
    "        targets = ['None']\n",
    "    return targets"
   ]
  },
  {
   "cell_type": "code",
   "execution_count": 252,
   "id": "massive-ottawa",
   "metadata": {},
   "outputs": [],
   "source": [
    "# Mentions\n",
    "tweet_mentions = list(df.text.apply(lambda x: at_mention(x)))\n",
    "tweet_mentions = list(filter(lambda x: (x != ['None']) and (x != ['@']), tweet_mentions))\n",
    "\n",
    "mention_count = Counter()\n",
    "for mentions in tweet_mentions:\n",
    "    for mention in mentions:\n",
    "        mention_count[mention]+=1\n",
    "        \n",
    "mention_list = [x[0] for x in mention_count.most_common(100)]"
   ]
  },
  {
   "cell_type": "code",
   "execution_count": 253,
   "id": "unauthorized-farmer",
   "metadata": {},
   "outputs": [
    {
     "data": {
      "text/html": [
       "<div>\n",
       "<style scoped>\n",
       "    .dataframe tbody tr th:only-of-type {\n",
       "        vertical-align: middle;\n",
       "    }\n",
       "\n",
       "    .dataframe tbody tr th {\n",
       "        vertical-align: top;\n",
       "    }\n",
       "\n",
       "    .dataframe thead th {\n",
       "        text-align: right;\n",
       "    }\n",
       "</style>\n",
       "<table border=\"1\" class=\"dataframe\">\n",
       "  <thead>\n",
       "    <tr style=\"text-align: right;\">\n",
       "      <th></th>\n",
       "      <th>mention</th>\n",
       "      <th>total_count</th>\n",
       "      <th>in_RT</th>\n",
       "      <th>in_quote</th>\n",
       "      <th>specific_mentions</th>\n",
       "    </tr>\n",
       "  </thead>\n",
       "  <tbody>\n",
       "    <tr>\n",
       "      <th>0</th>\n",
       "      <td>@realDonaldTrump</td>\n",
       "      <td>10880</td>\n",
       "      <td>2623</td>\n",
       "      <td>8145</td>\n",
       "      <td>112</td>\n",
       "    </tr>\n",
       "    <tr>\n",
       "      <th>1</th>\n",
       "      <td>@FoxNews</td>\n",
       "      <td>963</td>\n",
       "      <td>98</td>\n",
       "      <td>212</td>\n",
       "      <td>653</td>\n",
       "    </tr>\n",
       "    <tr>\n",
       "      <th>2</th>\n",
       "      <td>@WhiteHouse</td>\n",
       "      <td>845</td>\n",
       "      <td>712</td>\n",
       "      <td>0</td>\n",
       "      <td>133</td>\n",
       "    </tr>\n",
       "    <tr>\n",
       "      <th>3</th>\n",
       "      <td>@foxandfriends</td>\n",
       "      <td>702</td>\n",
       "      <td>83</td>\n",
       "      <td>170</td>\n",
       "      <td>449</td>\n",
       "    </tr>\n",
       "    <tr>\n",
       "      <th>4</th>\n",
       "      <td>@BarackObama</td>\n",
       "      <td>726</td>\n",
       "      <td>7</td>\n",
       "      <td>29</td>\n",
       "      <td>690</td>\n",
       "    </tr>\n",
       "    <tr>\n",
       "      <th>...</th>\n",
       "      <td>...</td>\n",
       "      <td>...</td>\n",
       "      <td>...</td>\n",
       "      <td>...</td>\n",
       "      <td>...</td>\n",
       "    </tr>\n",
       "    <tr>\n",
       "      <th>95</th>\n",
       "      <td>@RepMattGaetz</td>\n",
       "      <td>52</td>\n",
       "      <td>52</td>\n",
       "      <td>0</td>\n",
       "      <td>0</td>\n",
       "    </tr>\n",
       "    <tr>\n",
       "      <th>96</th>\n",
       "      <td>@mcuban</td>\n",
       "      <td>51</td>\n",
       "      <td>0</td>\n",
       "      <td>18</td>\n",
       "      <td>33</td>\n",
       "    </tr>\n",
       "    <tr>\n",
       "      <th>97</th>\n",
       "      <td>@DRUDGE_REPORT</td>\n",
       "      <td>50</td>\n",
       "      <td>24</td>\n",
       "      <td>16</td>\n",
       "      <td>10</td>\n",
       "    </tr>\n",
       "    <tr>\n",
       "      <th>98</th>\n",
       "      <td>@BuckSexton</td>\n",
       "      <td>49</td>\n",
       "      <td>49</td>\n",
       "      <td>0</td>\n",
       "      <td>0</td>\n",
       "    </tr>\n",
       "    <tr>\n",
       "      <th>99</th>\n",
       "      <td>@NBC</td>\n",
       "      <td>126</td>\n",
       "      <td>10</td>\n",
       "      <td>30</td>\n",
       "      <td>86</td>\n",
       "    </tr>\n",
       "  </tbody>\n",
       "</table>\n",
       "<p>100 rows × 5 columns</p>\n",
       "</div>"
      ],
      "text/plain": [
       "             mention  total_count  in_RT  in_quote  specific_mentions\n",
       "0   @realDonaldTrump        10880   2623      8145                112\n",
       "1           @FoxNews          963     98       212                653\n",
       "2        @WhiteHouse          845    712         0                133\n",
       "3     @foxandfriends          702     83       170                449\n",
       "4       @BarackObama          726      7        29                690\n",
       "..               ...          ...    ...       ...                ...\n",
       "95     @RepMattGaetz           52     52         0                  0\n",
       "96           @mcuban           51      0        18                 33\n",
       "97    @DRUDGE_REPORT           50     24        16                 10\n",
       "98       @BuckSexton           49     49         0                  0\n",
       "99              @NBC          126     10        30                 86\n",
       "\n",
       "[100 rows x 5 columns]"
      ]
     },
     "execution_count": 253,
     "metadata": {},
     "output_type": "execute_result"
    }
   ],
   "source": [
    "mention_df = pd.DataFrame(mention_list, columns=['mention'])\n",
    "mention_df['total_count'] = mention_df.mention.apply(lambda x: df.text.apply(lambda y: x in y).sum())\n",
    "mention_df['in_RT'] = mention_df.mention.apply(lambda x: df.text.apply(lambda y: (x in y) & ('RT' in y[:3])).sum())\n",
    "mention_df['in_quote'] = mention_df.mention.apply(lambda x: df.text.apply(lambda y: (x in y) & ('\"\"\"' in y[:3])).sum())\n",
    "mention_df['specific_mentions'] = mention_df.mention.apply(lambda x: \\\n",
    "    df.text.apply(lambda y: (x in y) & ('RT' not in y[:3]) & ('\"\"\"' not in y[:3])).sum())\n",
    "mention_df"
   ]
  },
  {
   "cell_type": "code",
   "execution_count": 272,
   "id": "functional-azerbaijan",
   "metadata": {},
   "outputs": [
    {
     "data": {
      "text/plain": [
       "0"
      ]
     },
     "execution_count": 272,
     "metadata": {},
     "output_type": "execute_result"
    }
   ],
   "source": [
    "# Gut Check\n",
    "(mention_df['total_count'] < (mention_df['in_RT'] + mention_df['in_quote'] + mention_df['specific_mentions'])).sum()"
   ]
  },
  {
   "cell_type": "markdown",
   "id": "productive-condition",
   "metadata": {},
   "source": [
    "# Data Cleaning Tasks\n",
    "## 1. HTML escape characters\n",
    "    Escape characters for ampersands and other HTML characters are handled and cleaned\n",
    "## 2. New line characters\n",
    "    New line characters are removed\n",
    "## 3. hyperlinks\n",
    "    Hyperlinks are removed\n",
    "## 4. Twitter Functionality\n",
    "    a. Quotes are identified\n",
    "    b. Retweets are identified\n",
    "    c. @'s are included\n",
    "    d. #'s are included"
   ]
  },
  {
   "cell_type": "code",
   "execution_count": 77,
   "id": "moved-spice",
   "metadata": {},
   "outputs": [],
   "source": [
    "# Cleaning Functions\n",
    "\n",
    "def split_ampersands(input_string):\n",
    "    split = input_string.split('&')\n",
    "    output = ''\n",
    "    for item in split:\n",
    "        output += item +'& '\n",
    "    return output[:-2]\n",
    "\n",
    "def white_space_remover(input_df):\n",
    "    while input_df.text.apply(lambda x: '  ' in x).sum() > 0:\n",
    "        input_df.text = input_df.text.apply(lambda x: x.replace('  ', ' '))\n",
    "\n",
    "def hyperlink_remover(input_text):\n",
    "    t = input_text.split()\n",
    "    output_string = \"\"\n",
    "    for word in t:\n",
    "        if \"http\" in word:\n",
    "            start=word.find(\"http\")\n",
    "            s = \" \" + word[:start]\n",
    "            output_string += s\n",
    "            output_string = output_string.strip()\n",
    "        else:\n",
    "            output_string += (\" \" + word)\n",
    "            output_string = output_string.strip()\n",
    "    return output_string\n",
    "\n",
    "def is_retweet(input_string):\n",
    "    return 'RT' in input_string[:5]\n",
    "\n",
    "def is_quote(input_string):\n",
    "    return input_string[:3] == '\"\"\"'\n",
    "\n",
    "def blanker(input_string, condition = False):\n",
    "    if condition:\n",
    "        return ''\n",
    "    else:\n",
    "        return input_string"
   ]
  },
  {
   "cell_type": "code",
   "execution_count": 78,
   "id": "alternate-champion",
   "metadata": {},
   "outputs": [],
   "source": [
    "# Full Clean\n",
    "\n",
    "def text_cleaner(input_df, drop_rt = False, drop_quote = False):\n",
    "    output_df = input_df.copy()\n",
    "    \n",
    "    # Clean up HTML escape characters\n",
    "    output_df['text'] = output_df.text.apply(lambda x: x.replace('&amp;', '&')).apply(lambda x: x.replace('&amp','&'))\n",
    "    output_df['text'] = output_df.text.apply(lambda x: x.replace('&,', '&')).apply(lambda x: x.replace('&,', '&'))\n",
    "    output_df['text'] = output_df.text.apply(lambda x: x.replace('&…', '...')).apply(lambda x: x.replace('&...', '...'))\n",
    "    output_df['text'] = output_df.text.apply(lambda x: x.replace('&gt;', '>')).apply(lambda x: x.replace('&gt','>'))\n",
    "    output_df['text'] = output_df.text.apply(lambda x: x.replace('&lt;', '<')).apply(lambda x: x.replace('&lt','<'))\n",
    "    \n",
    "    # Fix ampersands\n",
    "    output_df['text'] = output_df.text.apply(lambda x: split_ampersands(x)) \n",
    "    white_space_remover(output_df)\n",
    "    \n",
    "    # Clean out new line characters\n",
    "    while output_df.text.apply(lambda x: ' \\n' in x).sum() >0 :\n",
    "        output_df['text'] = output_df.text.apply(lambda x: x.replace(' \\n', '. '))\n",
    "        white_space_remover(output_df)\n",
    "    \n",
    "    while output_df.text.apply(lambda x: '\\n' in x).sum() > 0:\n",
    "        output_df['text'] = output_df.text.apply(lambda x: x.replace('\\n', '. '))\n",
    "        white_space_remover(output_df)\n",
    "    \n",
    "    # Remove hyperlinks\n",
    "    output_df['text'] = output_df.text.apply(lambda x: hyperlink_remover(x))\n",
    "    white_space_remover(output_df)\n",
    "    \n",
    "    if drop_rt:\n",
    "        output_df['text'] = output_df.text.apply(lambda x: blanker(x, is_retweet(x)))\n",
    "    \n",
    "    if drop_quote:\n",
    "        output_df['text'] = output_df.text.apply(lambda x: blanker(x, is_quote(x)))\n",
    "    \n",
    "    # Clear out tweets that have been blanked\n",
    "    output_df['text'] = output_df.text.apply(lambda x: x if ((len(str(x))>0) & (str(x)!='nan'))else np.nan)\n",
    "    output_df.dropna(inplace=True)\n",
    "    \n",
    "    return output_df\n",
    "\n"
   ]
  },
  {
   "cell_type": "code",
   "execution_count": 90,
   "id": "local-prospect",
   "metadata": {},
   "outputs": [],
   "source": [
    "clean_df = text_cleaner(df, True, True)\n",
    "full_df = text_cleaner(df)"
   ]
  },
  {
   "cell_type": "code",
   "execution_count": 80,
   "id": "ordered-nirvana",
   "metadata": {},
   "outputs": [
    {
     "data": {
      "text/html": [
       "<div>\n",
       "<style scoped>\n",
       "    .dataframe tbody tr th:only-of-type {\n",
       "        vertical-align: middle;\n",
       "    }\n",
       "\n",
       "    .dataframe tbody tr th {\n",
       "        vertical-align: top;\n",
       "    }\n",
       "\n",
       "    .dataframe thead th {\n",
       "        text-align: right;\n",
       "    }\n",
       "</style>\n",
       "<table border=\"1\" class=\"dataframe\">\n",
       "  <thead>\n",
       "    <tr style=\"text-align: right;\">\n",
       "      <th></th>\n",
       "      <th>id</th>\n",
       "      <th>text</th>\n",
       "      <th>device</th>\n",
       "      <th>likes</th>\n",
       "      <th>retweets</th>\n",
       "      <th>date</th>\n",
       "      <th>month</th>\n",
       "      <th>year</th>\n",
       "    </tr>\n",
       "  </thead>\n",
       "  <tbody>\n",
       "    <tr>\n",
       "      <th>0</th>\n",
       "      <td>1698308935</td>\n",
       "      <td>Be sure to tune in and watch Donald Trump on L...</td>\n",
       "      <td>Twitter Web Client</td>\n",
       "      <td>939</td>\n",
       "      <td>519</td>\n",
       "      <td>2009-05-04 18:54:00</td>\n",
       "      <td>5</td>\n",
       "      <td>2009</td>\n",
       "    </tr>\n",
       "    <tr>\n",
       "      <th>1</th>\n",
       "      <td>1701461182</td>\n",
       "      <td>Donald Trump will be appearing on The View tom...</td>\n",
       "      <td>Twitter Web Client</td>\n",
       "      <td>259</td>\n",
       "      <td>34</td>\n",
       "      <td>2009-05-05 01:00:00</td>\n",
       "      <td>5</td>\n",
       "      <td>2009</td>\n",
       "    </tr>\n",
       "    <tr>\n",
       "      <th>2</th>\n",
       "      <td>1737479987</td>\n",
       "      <td>Donald Trump reads Top Ten Financial Tips on L...</td>\n",
       "      <td>Twitter Web Client</td>\n",
       "      <td>37</td>\n",
       "      <td>15</td>\n",
       "      <td>2009-05-08 13:38:00</td>\n",
       "      <td>5</td>\n",
       "      <td>2009</td>\n",
       "    </tr>\n",
       "    <tr>\n",
       "      <th>3</th>\n",
       "      <td>1741160716</td>\n",
       "      <td>New Blog Post: Celebrity Apprentice Finale and...</td>\n",
       "      <td>Twitter Web Client</td>\n",
       "      <td>29</td>\n",
       "      <td>11</td>\n",
       "      <td>2009-05-08 20:40:00</td>\n",
       "      <td>5</td>\n",
       "      <td>2009</td>\n",
       "    </tr>\n",
       "    <tr>\n",
       "      <th>5</th>\n",
       "      <td>1776419923</td>\n",
       "      <td>\"Miss USA Tara Conner will not be fired - \"\"I'...</td>\n",
       "      <td>Twitter Web Client</td>\n",
       "      <td>25</td>\n",
       "      <td>26</td>\n",
       "      <td>2009-05-12 19:21:00</td>\n",
       "      <td>5</td>\n",
       "      <td>2009</td>\n",
       "    </tr>\n",
       "  </tbody>\n",
       "</table>\n",
       "</div>"
      ],
      "text/plain": [
       "           id                                               text  \\\n",
       "0  1698308935  Be sure to tune in and watch Donald Trump on L...   \n",
       "1  1701461182  Donald Trump will be appearing on The View tom...   \n",
       "2  1737479987  Donald Trump reads Top Ten Financial Tips on L...   \n",
       "3  1741160716  New Blog Post: Celebrity Apprentice Finale and...   \n",
       "5  1776419923  \"Miss USA Tara Conner will not be fired - \"\"I'...   \n",
       "\n",
       "               device  likes  retweets                date  month  year  \n",
       "0  Twitter Web Client    939       519 2009-05-04 18:54:00      5  2009  \n",
       "1  Twitter Web Client    259        34 2009-05-05 01:00:00      5  2009  \n",
       "2  Twitter Web Client     37        15 2009-05-08 13:38:00      5  2009  \n",
       "3  Twitter Web Client     29        11 2009-05-08 20:40:00      5  2009  \n",
       "5  Twitter Web Client     25        26 2009-05-12 19:21:00      5  2009  "
      ]
     },
     "execution_count": 80,
     "metadata": {},
     "output_type": "execute_result"
    }
   ],
   "source": [
    "clean_df.head()"
   ]
  },
  {
   "cell_type": "code",
   "execution_count": 81,
   "id": "photographic-assist",
   "metadata": {},
   "outputs": [
    {
     "name": "stdout",
     "output_type": "stream",
     "text": [
      "33571 56571\n"
     ]
    }
   ],
   "source": [
    "print(len(clean_df), len(df))"
   ]
  },
  {
   "cell_type": "code",
   "execution_count": 83,
   "id": "going-brand",
   "metadata": {},
   "outputs": [],
   "source": [
    "def possible_thread(input_string):\n",
    "    return '..' in input_string[-2:]\n",
    "\n",
    "def possible_continuation(input_string):\n",
    "    return '..' in input_string[:2] and '..' in input_string[-2]\n",
    "\n",
    "def possible_end(input_string):\n",
    "    return '..' in input_string[:2]\n",
    "                                                             \n",
    "\n",
    "def period_remover(input_string, operation):\n",
    "    s = input_string\n",
    "    if operation == 'start': \n",
    "        while s[-1] == ('.' or '…'):\n",
    "            s = s[:-1]\n",
    "        s = s+\" \"\n",
    "    if operation == 'middle':\n",
    "        while s[0] == ('.' or '…'):\n",
    "            s = s[1:]\n",
    "        while s[-1] == ('.' or '…'):\n",
    "            s = s[:-1]\n",
    "        s = s+\" \"\n",
    "    if operation == 'end':\n",
    "        while s[0] == '.':\n",
    "            s = s[1:]\n",
    "    return s\n",
    "\n",
    "# Didn't build it to handle the last element ending in '..'\n",
    "def thread_joiner(input_df):\n",
    "    joined_threads = []\n",
    "    output_df = input_df.copy()\n",
    "    \n",
    "    output_df['start_thread'] = output_df.text.apply(lambda x: possible_thread(x)) # True/False\n",
    "    output_df['cont_thread'] = output_df.text.apply(lambda x: possible_continuation(x)) # True/False\n",
    "    output_df['end_thread'] = output_df.text.apply(lambda x: possible_end(x)) # True/False\n",
    "    output_df['flag'] = False\n",
    "    \n",
    "    for i in range(len(output_df)):\n",
    "        if output_df.iloc[i]['start_thread'] and \\\n",
    "        (output_df.iloc[i+1]['cont_thread'] or output_df.iloc[i+1]['end_thread']):\n",
    "            text = period_remover(output_df.iloc[i]['text'], 'start')\n",
    "            j = i+1\n",
    "            while output_df.iloc[j]['cont_thread']:\n",
    "                j+=1\n",
    "                output_df.iloc[j,-1] = True\n",
    "            for k in range(i+1, j):\n",
    "                text += period_remover(output_df.iloc[k]['text'], 'middle')\n",
    "                output_df.iloc[k,-1] = True\n",
    "            output_df.iloc[j,-1] = True\n",
    "            text += period_remover(output_df.iloc[j]['text'], 'end')\n",
    "            \n",
    "            \n",
    "            output_df.iloc[i,0] = text\n",
    "            joined_threads.append(text)\n",
    "    output_df = output_df.drop(output_df[output_df['flag']==True].index)\n",
    "    output_df = output_df.drop(['start_thread', 'cont_thread','end_thread', 'flag'], axis=1)\n",
    "    output_df = output_df.reset_index(drop=True)\n",
    "    return output_df, joined_threads         \n",
    "    "
   ]
  },
  {
   "cell_type": "code",
   "execution_count": 91,
   "id": "alien-gender",
   "metadata": {},
   "outputs": [],
   "source": [
    "clean_df, joined_thread_record = thread_joiner(clean_df)\n",
    "full_df, full_thread_record = thread_joiner(full_df)"
   ]
  },
  {
   "cell_type": "code",
   "execution_count": 85,
   "id": "tight-basin",
   "metadata": {},
   "outputs": [
    {
     "data": {
      "text/html": [
       "<div>\n",
       "<style scoped>\n",
       "    .dataframe tbody tr th:only-of-type {\n",
       "        vertical-align: middle;\n",
       "    }\n",
       "\n",
       "    .dataframe tbody tr th {\n",
       "        vertical-align: top;\n",
       "    }\n",
       "\n",
       "    .dataframe thead th {\n",
       "        text-align: right;\n",
       "    }\n",
       "</style>\n",
       "<table border=\"1\" class=\"dataframe\">\n",
       "  <thead>\n",
       "    <tr style=\"text-align: right;\">\n",
       "      <th></th>\n",
       "      <th>id</th>\n",
       "      <th>text</th>\n",
       "      <th>device</th>\n",
       "      <th>likes</th>\n",
       "      <th>retweets</th>\n",
       "      <th>date</th>\n",
       "      <th>month</th>\n",
       "      <th>year</th>\n",
       "    </tr>\n",
       "  </thead>\n",
       "  <tbody>\n",
       "    <tr>\n",
       "      <th>0</th>\n",
       "      <td>1698308935</td>\n",
       "      <td>Be sure to tune in and watch Donald Trump on L...</td>\n",
       "      <td>Twitter Web Client</td>\n",
       "      <td>939</td>\n",
       "      <td>519</td>\n",
       "      <td>2009-05-04 18:54:00</td>\n",
       "      <td>5</td>\n",
       "      <td>2009</td>\n",
       "    </tr>\n",
       "    <tr>\n",
       "      <th>1</th>\n",
       "      <td>1701461182</td>\n",
       "      <td>Donald Trump will be appearing on The View tom...</td>\n",
       "      <td>Twitter Web Client</td>\n",
       "      <td>259</td>\n",
       "      <td>34</td>\n",
       "      <td>2009-05-05 01:00:00</td>\n",
       "      <td>5</td>\n",
       "      <td>2009</td>\n",
       "    </tr>\n",
       "    <tr>\n",
       "      <th>2</th>\n",
       "      <td>1737479987</td>\n",
       "      <td>Donald Trump reads Top Ten Financial Tips on L...</td>\n",
       "      <td>Twitter Web Client</td>\n",
       "      <td>37</td>\n",
       "      <td>15</td>\n",
       "      <td>2009-05-08 13:38:00</td>\n",
       "      <td>5</td>\n",
       "      <td>2009</td>\n",
       "    </tr>\n",
       "    <tr>\n",
       "      <th>3</th>\n",
       "      <td>1741160716</td>\n",
       "      <td>New Blog Post: Celebrity Apprentice Finale and...</td>\n",
       "      <td>Twitter Web Client</td>\n",
       "      <td>29</td>\n",
       "      <td>11</td>\n",
       "      <td>2009-05-08 20:40:00</td>\n",
       "      <td>5</td>\n",
       "      <td>2009</td>\n",
       "    </tr>\n",
       "    <tr>\n",
       "      <th>4</th>\n",
       "      <td>1776419923</td>\n",
       "      <td>\"Miss USA Tara Conner will not be fired - \"\"I'...</td>\n",
       "      <td>Twitter Web Client</td>\n",
       "      <td>25</td>\n",
       "      <td>26</td>\n",
       "      <td>2009-05-12 19:21:00</td>\n",
       "      <td>5</td>\n",
       "      <td>2009</td>\n",
       "    </tr>\n",
       "  </tbody>\n",
       "</table>\n",
       "</div>"
      ],
      "text/plain": [
       "           id                                               text  \\\n",
       "0  1698308935  Be sure to tune in and watch Donald Trump on L...   \n",
       "1  1701461182  Donald Trump will be appearing on The View tom...   \n",
       "2  1737479987  Donald Trump reads Top Ten Financial Tips on L...   \n",
       "3  1741160716  New Blog Post: Celebrity Apprentice Finale and...   \n",
       "4  1776419923  \"Miss USA Tara Conner will not be fired - \"\"I'...   \n",
       "\n",
       "               device  likes  retweets                date  month  year  \n",
       "0  Twitter Web Client    939       519 2009-05-04 18:54:00      5  2009  \n",
       "1  Twitter Web Client    259        34 2009-05-05 01:00:00      5  2009  \n",
       "2  Twitter Web Client     37        15 2009-05-08 13:38:00      5  2009  \n",
       "3  Twitter Web Client     29        11 2009-05-08 20:40:00      5  2009  \n",
       "4  Twitter Web Client     25        26 2009-05-12 19:21:00      5  2009  "
      ]
     },
     "execution_count": 85,
     "metadata": {},
     "output_type": "execute_result"
    }
   ],
   "source": [
    "clean_df.head()"
   ]
  },
  {
   "cell_type": "code",
   "execution_count": 86,
   "id": "linear-medicaid",
   "metadata": {},
   "outputs": [
    {
     "name": "stdout",
     "output_type": "stream",
     "text": [
      "56571 32650\n"
     ]
    }
   ],
   "source": [
    "print(len(df), len(clean_df))"
   ]
  },
  {
   "cell_type": "code",
   "execution_count": 87,
   "id": "careful-fishing",
   "metadata": {},
   "outputs": [
    {
     "data": {
      "image/png": "[encoded data removed]",
      "text/plain": [
       "<Figure size 432x288 with 1 Axes>"
      ]
     },
     "metadata": {
      "needs_background": "light"
     },
     "output_type": "display_data"
    }
   ],
   "source": [
    "tweets_per_year = clean_df.groupby('year').agg('count')['id']\n",
    "_ = sns.scatterplot(data=tweets_per_year)\n",
    "plt.ylabel('tweets')\n",
    "plt.show()"
   ]
  },
  {
   "cell_type": "code",
   "execution_count": 88,
   "id": "beginning-favor",
   "metadata": {},
   "outputs": [],
   "source": [
    "clean_df.to_csv('cleaned_tweets.csv', index=False)"
   ]
  },
  {
   "cell_type": "code",
   "execution_count": 92,
   "id": "baking-seventh",
   "metadata": {},
   "outputs": [],
   "source": [
    "full_df.to_csv('full_tweets.csv', index=False)"
   ]
  },
  {
   "cell_type": "code",
   "execution_count": 402,
   "id": "beneficial-joint",
   "metadata": {},
   "outputs": [
    {
     "name": "stdout",
     "output_type": "stream",
     "text": [
      "\"\"\"@ChadR73: Guess Barry Diller is afraid @realDonaldTrump is about to upset the crony applecart. #Trump2016 @Carl_C_Icahn\"\" An angry fool!\"\n",
      "\n",
      "\"\"\"@lewgeraldine: @FoxNews @realDonaldTrump TRUMP FOR \"\"PRESIDENT\"\" YOU HAVE MY VOTE.\"\" GREAT.\"\n"
     ]
    }
   ],
   "source": [
    "quotes = full_df[full_df.text.apply(lambda x: '\"\"\"' in x[:3])].text\n",
    "print(quotes.iloc[10006])\n",
    "print()\n",
    "print(quotes.iloc[10007])"
   ]
  },
  {
   "cell_type": "code",
   "execution_count": 403,
   "id": "agreed-production",
   "metadata": {},
   "outputs": [
    {
     "data": {
      "text/plain": [
       "11558"
      ]
     },
     "execution_count": 403,
     "metadata": {},
     "output_type": "execute_result"
    }
   ],
   "source": [
    "len(quotes)"
   ]
  },
  {
   "cell_type": "code",
   "execution_count": 302,
   "id": "proud-digit",
   "metadata": {},
   "outputs": [],
   "source": [
    "# Quotes with responses\n",
    "def is_quote_response(input_text):\n",
    "    if '\"\"\"' not in input_text:\n",
    "        return False\n",
    "    if input_text[-2] != '\"':\n",
    "        return True\n",
    "    else:\n",
    "        return False"
   ]
  },
  {
   "cell_type": "code",
   "execution_count": 331,
   "id": "complete-archive",
   "metadata": {},
   "outputs": [
    {
     "name": "stdout",
     "output_type": "stream",
     "text": [
      "\"\"\"Strive for wholeness and keep your sense of wonder intact.\"\" --Donald J. Trump\n",
      "\n",
      "\"\"\"@BrklynSportGeek Just heard you're bidding on @buffalobills. As a buffalo native thank you.\"\" My honor.\"\n",
      "\n",
      "\"\"\"@RustyWynnewood: Great day at Trump National in Charlotte. You took a good club and made it great. Well done sir.\n",
      "\n",
      "\"\"\"@TrumpGolfLA: ICYMI: Fantastic commercial @TrumpGolfLA feat. @JordanSpieth & #tombrady Thanks @UnderArmour & @espn\n",
      "\n",
      "\"\"\"@garc8509: @realDonaldTrump no don't buy the #BuffaloBills. Buy the #NewYorkMets #Mets we need a true owner that wants to win!! Please!\"\n",
      "\n",
      "\"\"\"Success breeds success. The best way to impress people is through results.\"\" - Think Like a Billionaire\"\n",
      "\n",
      "\"\"\"@Michael_Haz Donald, why don’t you go out to Nevada & cut a deal for #CliveBundy? No one is a better deal maker than you. Go do it!\"\" True!\"\n"
     ]
    }
   ],
   "source": [
    "print(quotes[quotes.apply(lambda x: is_quote_response(x))].iloc[1])\n",
    "print()\n",
    "print(quotes[quotes.apply(lambda x: is_quote_response(x))].iloc[3004])\n",
    "print()\n",
    "print(quotes[quotes.apply(lambda x: is_quote_response(x))].iloc[3009])\n",
    "print()\n",
    "print(quotes[quotes.apply(lambda x: is_quote_response(x))].iloc[3014])\n",
    "print()\n",
    "print(quotes[quotes.apply(lambda x: is_quote_response(x))].iloc[3018])\n",
    "print()\n",
    "print(quotes[quotes.apply(lambda x: is_quote_response(x))].iloc[3027])\n",
    "print()\n",
    "print(quotes[quotes.apply(lambda x: is_quote_response(x))].iloc[3035])"
   ]
  },
  {
   "cell_type": "markdown",
   "id": "democratic-college",
   "metadata": {},
   "source": [
    "### Types of quote tweets:\n",
    "\n",
    "Full Quotes: Either start AND end in \"\"\", end in singular \", or ends in nothing.\n",
    "\n",
    "Quote-reply: Starts with \"\"\" and has \"\" right before the reply.\n",
    "\n",
    "Manual Quote Attribution: Has a quote wrapped by \"\" and then a manual text attribution, often with preceding -'s\n"
   ]
  },
  {
   "cell_type": "code",
   "execution_count": 567,
   "id": "collectible-serbia",
   "metadata": {},
   "outputs": [],
   "source": [
    "def is_attribution(input_text):\n",
    "    if input_text[:3] != '\"\"\"':\n",
    "        return False\n",
    "    if is_full_quote(input_text):\n",
    "        return False\n",
    "    attribution_flags = re.compile(r'\"\" -|\"\"-|\" -|\"-|\"\" –|\"\"–|\" –|\"–')\n",
    "    result = attribution_flags.search(input_text)\n",
    "    if result == None:\n",
    "        return False\n",
    "    else:\n",
    "        return True\n",
    "    "
   ]
  },
  {
   "cell_type": "code",
   "execution_count": 568,
   "id": "furnished-adrian",
   "metadata": {},
   "outputs": [
    {
     "data": {
      "text/plain": [
       "0.03114725731095345"
      ]
     },
     "execution_count": 568,
     "metadata": {},
     "output_type": "execute_result"
    }
   ],
   "source": [
    "quotes.apply(lambda x: is_attribution(x)).sum()/len(quotes)"
   ]
  },
  {
   "cell_type": "code",
   "execution_count": 569,
   "id": "gorgeous-consensus",
   "metadata": {},
   "outputs": [],
   "source": [
    "def is_quote_reply(input_text):\n",
    "    if input_text[:3] != '\"\"\"':\n",
    "        return False\n",
    "    if input_text[-1] != '\"':\n",
    "        return False\n",
    "    if input_text[-3:] == '\"\"\"':\n",
    "        return False\n",
    "    if is_attribution(input_text):\n",
    "        return False\n",
    "    flags = re.compile(r'[^\"]\"\"[^\"]')\n",
    "    result = flags.search(input_text)\n",
    "    if result == None:\n",
    "        return False\n",
    "    else:\n",
    "        return True"
   ]
  },
  {
   "cell_type": "code",
   "execution_count": 570,
   "id": "increasing-evening",
   "metadata": {},
   "outputs": [
    {
     "data": {
      "text/plain": [
       "0.31934590759646997"
      ]
     },
     "execution_count": 570,
     "metadata": {},
     "output_type": "execute_result"
    }
   ],
   "source": [
    "quotes.apply(lambda x: is_quote_reply(x)).sum()/len(quotes)"
   ]
  },
  {
   "cell_type": "code",
   "execution_count": 571,
   "id": "informational-gibson",
   "metadata": {},
   "outputs": [],
   "source": [
    "def is_full_quote(input_text):\n",
    "    if input_text[:3] == '\"\"\"' and input_text[-3:] == '\"\"\"':\n",
    "        return True\n",
    "    else:\n",
    "        return False\n"
   ]
  },
  {
   "cell_type": "code",
   "execution_count": 572,
   "id": "automated-roller",
   "metadata": {},
   "outputs": [
    {
     "name": "stdout",
     "output_type": "stream",
     "text": [
      "Total: 11558\n",
      "Attributions: 360\n",
      "Quote Replies: 3691\n",
      "Full Quotes: 4886\n",
      "Unaccounted For: 2621\n"
     ]
    }
   ],
   "source": [
    "total_quotes = len(quotes)\n",
    "attributions = quotes.apply(lambda x: is_attribution(x)).sum()\n",
    "quote_reply = quotes.apply(lambda x: is_quote_reply(x)).sum()\n",
    "full_quotes = quotes.apply(lambda x: is_full_quote(x)).sum()\n",
    "print(f'Total: {total_quotes}')\n",
    "print(f'Attributions: {attributions}')\n",
    "print(f'Quote Replies: {quote_reply}')\n",
    "print(f'Full Quotes: {full_quotes}')\n",
    "print(f'Unaccounted For: {total_quotes - attributions - quote_reply - full_quotes}')"
   ]
  },
  {
   "cell_type": "code",
   "execution_count": 573,
   "id": "blocked-seller",
   "metadata": {},
   "outputs": [],
   "source": [
    "remainders = quotes.apply(lambda x: not (is_attribution(x) | is_quote_reply(x) | is_full_quote(x)) )"
   ]
  },
  {
   "cell_type": "code",
   "execution_count": 585,
   "id": "interpreted-wilderness",
   "metadata": {},
   "outputs": [
    {
     "name": "stdout",
     "output_type": "stream",
     "text": [
      "\"\"\"America became a powerhouse because of our deep belief in the virtue of self-reliance.\"\" #TimeToGetTough (cont)\n",
      "\n",
      "\"\"\"@AndyShinberger: @realDonaldTrump people hate you because they are jealous of you and in reality they don't hate you, they hate themselves!\"\n",
      "\n",
      "\"\"\"@stkhlder3: @BrandiGlanville awww looks like such fun! #TeamBrandi I'm loving ya on @ApprenticeNBC !! Good job @realDonaldTrump\"\n",
      "\n",
      "\"\"\"@TheUSALifeStyle: @AnnCoulter TO #MakeAmericaGreatAgain VOTE FOR DONALD TRUMP. #Trump2016 #Eleccion2015 #USA #GOP\n",
      "\n",
      "\"\"\"@EHarper69: @realDonaldTrump If you run you will win.. I've never been wrong. Just be presidential, not a salesman!\"\n",
      "\n"
     ]
    }
   ],
   "source": [
    "foo = quotes[remainders]\n",
    "bar = np.random.choice(foo, 5)\n",
    "for item in bar:\n",
    "    print(item)\n",
    "    print()"
   ]
  },
  {
   "cell_type": "code",
   "execution_count": 582,
   "id": "matched-values",
   "metadata": {
    "scrolled": true
   },
   "outputs": [
    {
     "data": {
      "text/plain": [
       "2621"
      ]
     },
     "execution_count": 582,
     "metadata": {},
     "output_type": "execute_result"
    }
   ],
   "source": [
    "remainders.sum()"
   ]
  },
  {
   "cell_type": "code",
   "execution_count": 533,
   "id": "favorite-johns",
   "metadata": {},
   "outputs": [
    {
     "data": {
      "text/plain": [
       "'\"\"\"The damage that Democrats, weak Repubicans, and this disaster of a president have inflicted on America has put (cont)'"
      ]
     },
     "execution_count": 533,
     "metadata": {},
     "output_type": "execute_result"
    }
   ],
   "source": [
    "quotes[remainders].iloc[9]"
   ]
  },
  {
   "cell_type": "code",
   "execution_count": 528,
   "id": "aggressive-induction",
   "metadata": {},
   "outputs": [
    {
     "data": {
      "text/html": [
       "<div>\n",
       "<style scoped>\n",
       "    .dataframe tbody tr th:only-of-type {\n",
       "        vertical-align: middle;\n",
       "    }\n",
       "\n",
       "    .dataframe tbody tr th {\n",
       "        vertical-align: top;\n",
       "    }\n",
       "\n",
       "    .dataframe thead th {\n",
       "        text-align: right;\n",
       "    }\n",
       "</style>\n",
       "<table border=\"1\" class=\"dataframe\">\n",
       "  <thead>\n",
       "    <tr style=\"text-align: right;\">\n",
       "      <th></th>\n",
       "      <th>id</th>\n",
       "      <th>text</th>\n",
       "      <th>device</th>\n",
       "      <th>likes</th>\n",
       "      <th>retweets</th>\n",
       "      <th>date</th>\n",
       "      <th>month</th>\n",
       "      <th>year</th>\n",
       "    </tr>\n",
       "  </thead>\n",
       "  <tbody>\n",
       "    <tr>\n",
       "      <th>1024</th>\n",
       "      <td>157132000000000000</td>\n",
       "      <td>\"\"\"President Reagan had it right: Social Secur...</td>\n",
       "      <td>TwitLonger Beta</td>\n",
       "      <td>15</td>\n",
       "      <td>86</td>\n",
       "      <td>2012-01-11 16:10:00</td>\n",
       "      <td>1</td>\n",
       "      <td>2012</td>\n",
       "    </tr>\n",
       "  </tbody>\n",
       "</table>\n",
       "</div>"
      ],
      "text/plain": [
       "                      id                                               text  \\\n",
       "1024  157132000000000000  \"\"\"President Reagan had it right: Social Secur...   \n",
       "\n",
       "               device  likes  retweets                date  month  year  \n",
       "1024  TwitLonger Beta     15        86 2012-01-11 16:10:00      1  2012  "
      ]
     },
     "execution_count": 528,
     "metadata": {},
     "output_type": "execute_result"
    }
   ],
   "source": [
    "full_df.loc[full_df.text.apply(lambda x: 'President Reagan had it right:' in x)]"
   ]
  },
  {
   "cell_type": "code",
   "execution_count": 532,
   "id": "olive-tours",
   "metadata": {},
   "outputs": [
    {
     "name": "stdout",
     "output_type": "stream",
     "text": [
      "\"\"\"President Reagan had it right: Social Security is here to stay. We must root out the fraud and make it more (cont) \"\"\"A real president should take pride in saving and spending your money wisely, not funneling it to his cronies (cont) 51% of @JonHuntsman's NH voters are satisfied with @BarackObama as president So is @JonHuntsman!\n"
     ]
    }
   ],
   "source": [
    "print(full_df.text.iloc[1024], full_df.text.iloc[1025], full_df.text.iloc[1026])"
   ]
  },
  {
   "cell_type": "code",
   "execution_count": 534,
   "id": "weighted-curtis",
   "metadata": {},
   "outputs": [
    {
     "data": {
      "text/html": [
       "<div>\n",
       "<style scoped>\n",
       "    .dataframe tbody tr th:only-of-type {\n",
       "        vertical-align: middle;\n",
       "    }\n",
       "\n",
       "    .dataframe tbody tr th {\n",
       "        vertical-align: top;\n",
       "    }\n",
       "\n",
       "    .dataframe thead th {\n",
       "        text-align: right;\n",
       "    }\n",
       "</style>\n",
       "<table border=\"1\" class=\"dataframe\">\n",
       "  <thead>\n",
       "    <tr style=\"text-align: right;\">\n",
       "      <th></th>\n",
       "      <th>id</th>\n",
       "      <th>text</th>\n",
       "      <th>device</th>\n",
       "      <th>likes</th>\n",
       "      <th>retweets</th>\n",
       "      <th>date</th>\n",
       "      <th>month</th>\n",
       "      <th>year</th>\n",
       "    </tr>\n",
       "  </thead>\n",
       "  <tbody>\n",
       "    <tr>\n",
       "      <th>1018</th>\n",
       "      <td>156820000000000000</td>\n",
       "      <td>\"\"\"The damage that Democrats, weak Repubicans,...</td>\n",
       "      <td>TwitLonger Beta</td>\n",
       "      <td>16</td>\n",
       "      <td>52</td>\n",
       "      <td>2012-01-10 19:29:00</td>\n",
       "      <td>1</td>\n",
       "      <td>2012</td>\n",
       "    </tr>\n",
       "  </tbody>\n",
       "</table>\n",
       "</div>"
      ],
      "text/plain": [
       "                      id                                               text  \\\n",
       "1018  156820000000000000  \"\"\"The damage that Democrats, weak Repubicans,...   \n",
       "\n",
       "               device  likes  retweets                date  month  year  \n",
       "1018  TwitLonger Beta     16        52 2012-01-10 19:29:00      1  2012  "
      ]
     },
     "execution_count": 534,
     "metadata": {},
     "output_type": "execute_result"
    }
   ],
   "source": [
    "full_df.loc[full_df.text.apply(lambda x: 'The damage that Democrats, weak Repubicans, and this disaster' in x)]"
   ]
  },
  {
   "cell_type": "code",
   "execution_count": 390,
   "id": "still-running",
   "metadata": {},
   "outputs": [
    {
     "data": {
      "text/plain": [
       "True"
      ]
     },
     "execution_count": 390,
     "metadata": {},
     "output_type": "execute_result"
    }
   ],
   "source": [
    "is_attribution('\"\"\"asdasda\"\" –BarnesandNoble.com')"
   ]
  },
  {
   "cell_type": "code",
   "execution_count": 443,
   "id": "adjacent-coalition",
   "metadata": {},
   "outputs": [
    {
     "data": {
      "text/plain": [
       "328"
      ]
     },
     "execution_count": 443,
     "metadata": {},
     "output_type": "execute_result"
    }
   ],
   "source": [
    "clean_df.text.apply(lambda x: ('(cont)' in x)).sum()"
   ]
  },
  {
   "cell_type": "code",
   "execution_count": 444,
   "id": "charged-trick",
   "metadata": {},
   "outputs": [
    {
     "data": {
      "text/plain": [
       "61"
      ]
     },
     "execution_count": 444,
     "metadata": {},
     "output_type": "execute_result"
    }
   ],
   "source": [
    "clean_df.text.apply(lambda x: ('cont' in x[-10:]) & ('(cont)' not in x)).sum()"
   ]
  },
  {
   "cell_type": "code",
   "execution_count": 448,
   "id": "passive-wireless",
   "metadata": {},
   "outputs": [],
   "source": [
    "foo = clean_df[clean_df.text.apply(lambda x: ('cont' in x[-10:]) & ('(cont)' not in x))].text"
   ]
  },
  {
   "cell_type": "markdown",
   "id": "cardiac-potter",
   "metadata": {},
   "source": [
    "The examples below were chosen from random sampling of the above filter."
   ]
  },
  {
   "cell_type": "code",
   "execution_count": 488,
   "id": "entitled-premium",
   "metadata": {},
   "outputs": [
    {
     "data": {
      "text/plain": [
       "'The resolution being considered at the United Nations Security Council regarding Israel should be vetoed....cont:'"
      ]
     },
     "execution_count": 488,
     "metadata": {},
     "output_type": "execute_result"
    }
   ],
   "source": [
    "clean_df.text.iloc[18292]"
   ]
  },
  {
   "cell_type": "code",
   "execution_count": 489,
   "id": "skilled-romance",
   "metadata": {},
   "outputs": [
    {
     "data": {
      "text/plain": [
       "'\"Someone incorrectly stated that the phrase \"\"DRAIN THE SWAMP\"\" was no longer being used by me. Actually, we will always be trying to DTS.\"'"
      ]
     },
     "execution_count": 489,
     "metadata": {},
     "output_type": "execute_result"
    }
   ],
   "source": [
    "clean_df.text.iloc[18293]"
   ]
  },
  {
   "cell_type": "code",
   "execution_count": 476,
   "id": "solved-girlfriend",
   "metadata": {},
   "outputs": [
    {
     "data": {
      "text/plain": [
       "\"Hillary Clinton's weakness while she was Secretary of State, has emboldened terrorists all over the world..cont:\""
      ]
     },
     "execution_count": 476,
     "metadata": {},
     "output_type": "execute_result"
    }
   ],
   "source": [
    "clean_df.text.iloc[17471]"
   ]
  },
  {
   "cell_type": "code",
   "execution_count": 477,
   "id": "cloudy-sauce",
   "metadata": {},
   "outputs": [
    {
     "data": {
      "text/plain": [
       "\"Philly FOP Chief On Presidential Endorsement: Clinton ‘Blew The Police Off'\""
      ]
     },
     "execution_count": 477,
     "metadata": {},
     "output_type": "execute_result"
    }
   ],
   "source": [
    "clean_df.text.iloc[17472]"
   ]
  },
  {
   "cell_type": "code",
   "execution_count": 494,
   "id": "challenging-point",
   "metadata": {},
   "outputs": [
    {
     "data": {
      "text/plain": [
       "'The Palestinian terror attack today reminds the world of the grievous perils facing Israeli citizens....continued:'"
      ]
     },
     "execution_count": 494,
     "metadata": {},
     "output_type": "execute_result"
    }
   ],
   "source": [
    "clean_df.text.iloc[17658]"
   ]
  },
  {
   "cell_type": "code",
   "execution_count": 495,
   "id": "unavailable-contributor",
   "metadata": {},
   "outputs": [
    {
     "data": {
      "text/plain": [
       "'Join me on #FacebookLive as I conclude my final #debate preparations.'"
      ]
     },
     "execution_count": 495,
     "metadata": {},
     "output_type": "execute_result"
    }
   ],
   "source": [
    "clean_df.text.iloc[17659]"
   ]
  },
  {
   "cell_type": "code",
   "execution_count": 596,
   "id": "still-history",
   "metadata": {},
   "outputs": [
    {
     "name": "stdout",
     "output_type": "stream",
     "text": [
      "RT @NateSilver538: At this point, it's been 3.6 hours since the start of the caucuses and 1.9% of precincts have reported results, which ex…\n",
      "\n",
      "RT @DGPurser: More lies about \"Vote by mail\".. . This is nothing but a Democrat attempt to cheat and STEAL this election.. . Nothing they say a…\n",
      "\n",
      "RT @HawleyMO: It is amazing to watch Adam Schiff practically shove his co-managers aside to get to the microphone. His plan seems to be to…\n",
      "\n",
      "RT @seanhannity: Biden's Ukraine warning 👇\n",
      "\n",
      "RT @JudicialWatch: Right now, our borders are being used as gateways for drug cartels & violent criminals – each day adding to the millions...\n",
      "\n"
     ]
    }
   ],
   "source": [
    "foo = full_df.text[full_df.text.apply(lambda x: is_retweet(x))]\n",
    "bar = np.random.choice(foo,5)\n",
    "for item in bar:\n",
    "    print(item)\n",
    "    print()"
   ]
  },
  {
   "cell_type": "markdown",
   "id": "charitable-cisco",
   "metadata": {},
   "source": [
    "### There appears to be no indication that 'cont' is used as a threading mechanism. Even after referencing back with the original df."
   ]
  },
  {
   "cell_type": "code",
   "execution_count": null,
   "id": "hollow-sending",
   "metadata": {},
   "outputs": [],
   "source": []
  },
  {
   "cell_type": "code",
   "execution_count": null,
   "id": "changed-pantyhose",
   "metadata": {},
   "outputs": [],
   "source": []
  },
  {
   "cell_type": "code",
   "execution_count": null,
   "id": "minus-allowance",
   "metadata": {},
   "outputs": [],
   "source": [
    "# Special Tokens\n",
    "QS = '<QS>'\n",
    "QE = '<QE>'\n",
    "reply = '<r>'"
   ]
  }
 ],
 "metadata": {
  "kernelspec": {
   "display_name": "Python 3",
   "language": "python",
   "name": "python3"
  },
  "language_info": {
   "codemirror_mode": {
    "name": "ipython",
    "version": 3
   },
   "file_extension": ".py",
   "mimetype": "text/x-python",
   "name": "python",
   "nbconvert_exporter": "python",
   "pygments_lexer": "ipython3",
   "version": "3.9.1"
  }
 },
 "nbformat": 4,
 "nbformat_minor": 5
}
