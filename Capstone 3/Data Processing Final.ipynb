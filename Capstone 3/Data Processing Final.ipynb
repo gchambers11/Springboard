{
 "cells": [
  {
   "cell_type": "code",
   "execution_count": 2,
   "id": "brave-stroke",
   "metadata": {},
   "outputs": [],
   "source": [
    "import pandas as pd\n",
    "import numpy as np\n",
    "import re\n",
    "import seaborn as sns"
   ]
  },
  {
   "cell_type": "code",
   "execution_count": 3,
   "id": "clean-spirit",
   "metadata": {},
   "outputs": [
    {
     "name": "stdout",
     "output_type": "stream",
     "text": [
      "<class 'pandas.core.frame.DataFrame'>\n",
      "RangeIndex: 56571 entries, 0 to 56570\n",
      "Data columns (total 8 columns):\n",
      " #   Column    Non-Null Count  Dtype         \n",
      "---  ------    --------------  -----         \n",
      " 0   id        56571 non-null  int64         \n",
      " 1   text      56571 non-null  object        \n",
      " 2   device    56571 non-null  object        \n",
      " 3   likes     56571 non-null  int64         \n",
      " 4   retweets  56571 non-null  int64         \n",
      " 5   date      56571 non-null  datetime64[ns]\n",
      " 6   month     56571 non-null  int64         \n",
      " 7   year      56571 non-null  int64         \n",
      "dtypes: datetime64[ns](1), int64(5), object(2)\n",
      "memory usage: 3.5+ MB\n",
      "None\n"
     ]
    }
   ],
   "source": [
    "df = pd.read_csv('trump_tweets.csv')\n",
    "df.date = pd.to_datetime(df.date)\n",
    "df = df.sort_values(by='date').reset_index(drop=True)\n",
    "df = df.rename(columns={\"favorites\":\"likes\"})\n",
    "df['month'] = df.date.apply(lambda x: x.month)\n",
    "df['year'] = df.date.apply(lambda x: x.year)\n",
    "print(df.info())"
   ]
  },
  {
   "cell_type": "code",
   "execution_count": 4,
   "id": "usual-right",
   "metadata": {},
   "outputs": [],
   "source": [
    "# Cleaning Functions\n",
    "\n",
    "def split_ampersands(input_string):\n",
    "    split = input_string.split('&')\n",
    "    output = ''\n",
    "    for item in split:\n",
    "        output += item +'& '\n",
    "    return output[:-2]\n",
    "\n",
    "def white_space_remover(input_df):\n",
    "    while input_df.text.apply(lambda x: '  ' in x).sum() > 0:\n",
    "        input_df.text = input_df.text.apply(lambda x: x.replace('  ', ' '))\n",
    "\n",
    "def hyperlink_remover(input_text):\n",
    "    t = input_text.split()\n",
    "    output_string = \"\"\n",
    "    for word in t:\n",
    "        if \"http\" in word:\n",
    "            start=word.find(\"http\")\n",
    "            s = \" \" + word[:start]\n",
    "            output_string += s\n",
    "            output_string = output_string.strip()\n",
    "        else:\n",
    "            output_string += (\" \" + word)\n",
    "            output_string = output_string.strip()\n",
    "    return output_string\n",
    "\n",
    "def is_retweet(input_string):\n",
    "    return input_string[:2] == 'RT'\n",
    "\n",
    "def blanker(input_string, condition = False):\n",
    "    if condition:\n",
    "        return ''\n",
    "    else:\n",
    "        return input_string"
   ]
  },
  {
   "cell_type": "code",
   "execution_count": 5,
   "id": "ruled-nature",
   "metadata": {},
   "outputs": [],
   "source": [
    "# Full Clean\n",
    "\n",
    "def text_cleaner(input_df, drop_rt = False, drop_quote = False):\n",
    "    output_df = input_df.copy()\n",
    "    \n",
    "    # Clean up HTML escape characters\n",
    "    output_df['text'] = output_df.text.apply(lambda x: x.replace('&amp;', '&')).apply(lambda x: x.replace('&amp','&'))\n",
    "    output_df['text'] = output_df.text.apply(lambda x: x.replace('&,', '&')).apply(lambda x: x.replace('&,', '&'))\n",
    "    output_df['text'] = output_df.text.apply(lambda x: x.replace('&…', '...')).apply(lambda x: x.replace('&...', '...'))\n",
    "    output_df['text'] = output_df.text.apply(lambda x: x.replace('&gt;', '>')).apply(lambda x: x.replace('&gt','>'))\n",
    "    output_df['text'] = output_df.text.apply(lambda x: x.replace('&lt;', '<')).apply(lambda x: x.replace('&lt','<'))\n",
    "    \n",
    "    # Fix ampersands\n",
    "    output_df['text'] = output_df.text.apply(lambda x: split_ampersands(x)) \n",
    "    white_space_remover(output_df)\n",
    "    \n",
    "    # Fix verified @'s\n",
    "    output_df['text'] = output_df.text.apply(lambda x: x.replace('.@','@'))\n",
    "    \n",
    "    # Fix annoying elipses\n",
    "    output_df['text'] = output_df.text.apply(lambda x: x.replace('…', '...'))\n",
    "    \n",
    "    # Clean out new line characters\n",
    "    while output_df.text.apply(lambda x: ' \\n' in x).sum() >0 :\n",
    "        output_df['text'] = output_df.text.apply(lambda x: x.replace(' \\n', '. '))\n",
    "        white_space_remover(output_df)\n",
    "    \n",
    "    while output_df.text.apply(lambda x: '\\n' in x).sum() > 0:\n",
    "        output_df['text'] = output_df.text.apply(lambda x: x.replace('\\n', '. '))\n",
    "        white_space_remover(output_df)\n",
    "    \n",
    "    # Remove hyperlinks\n",
    "    output_df['text'] = output_df.text.apply(lambda x: hyperlink_remover(x))\n",
    "    white_space_remover(output_df)\n",
    "    \n",
    "    if drop_rt:\n",
    "        output_df['text'] = output_df.text.apply(lambda x: blanker(x, is_retweet(x)))\n",
    "    \n",
    "    if drop_quote:\n",
    "        output_df['text'] = output_df.text.apply(lambda x: blanker(x, is_quote(x)))\n",
    "    \n",
    "    # Clear out tweets that have been blanked\n",
    "    output_df['text'] = output_df.text.apply(lambda x: x if ((len(str(x))>0) & (str(x)!='nan'))else np.nan)\n",
    "    output_df.dropna(inplace=True)\n",
    "    \n",
    "    return output_df"
   ]
  },
  {
   "cell_type": "code",
   "execution_count": 6,
   "id": "prospective-unemployment",
   "metadata": {},
   "outputs": [],
   "source": [
    "def is_quote(input_string, debug=False):\n",
    "    if debug: print(input_string)\n",
    "    return (input_string[:3] == '\"\"\"')\n",
    "\n",
    "def is_attribution(input_text):\n",
    "    if input_text[:3] != '\"\"\"':\n",
    "        return False\n",
    "    if is_full_quote(input_text):\n",
    "        return False\n",
    "    attribution_flags = re.compile(r'\"\" -|\"\"-|\" -|\"-|\"\" –|\"\"–|\" –|\"–')\n",
    "    result = attribution_flags.search(input_text)\n",
    "    if result == None:\n",
    "        return False\n",
    "    else:\n",
    "        return True\n",
    "\n",
    "def is_quote_reply(input_text, debug=False):\n",
    "    if input_text[:3] != '\"\"\"':\n",
    "        if debug: print('Start not triple quote')\n",
    "        return False\n",
    "    if input_text[-1] != '\"':\n",
    "        if debug: print('End not quote')\n",
    "        return False\n",
    "    if input_text[-3:] == '\"\"\"':\n",
    "        if debug: print('End not triple quote')\n",
    "        return False\n",
    "    if is_attribution(input_text):\n",
    "        if debug: print('is attribution')\n",
    "        return False\n",
    "    flags = re.compile(r'[^\"]\"\"[^\"]')\n",
    "    result = flags.search(input_text)\n",
    "    if result == None:\n",
    "        if debug: print('double quote not found')\n",
    "        return False\n",
    "    else:\n",
    "        return True\n",
    "    \n",
    "def is_full_quote(input_text):\n",
    "    if input_text[:3] == '\"\"\"' and input_text[-3:] == '\"\"\"':\n",
    "        return True\n",
    "    else:\n",
    "        return False \n",
    "\n",
    "def is_remainder(input_text):\n",
    "    return not (is_attribution(input_text) | is_quote_reply(input_text) | is_full_quote(input_text))"
   ]
  },
  {
   "cell_type": "code",
   "execution_count": 7,
   "id": "laughing-victorian",
   "metadata": {},
   "outputs": [],
   "source": [
    "# Tokenizer Functions\n",
    "\n",
    "QS = '<QS>' # quote start\n",
    "QE = '<QE>' # quote end\n",
    "RS = '<RS>' # reply start\n",
    "RE = '<RE>' # reply end\n",
    "RT = '<RT>' # retweet\n",
    "AT = '<AT>' # @ mentions\n",
    "\n",
    "def quote_tokenizer(input_text):\n",
    "    if is_quote(input_text):\n",
    "        output_text = ''\n",
    "        if is_full_quote(input_text):\n",
    "            while input_text[-1] == '\"':\n",
    "                input_text = input_text[:-1]\n",
    "            output_text = QS + '\"' + input_text[3:] + '\"' + QE\n",
    "            return output_text\n",
    "        if is_quote_reply(input_text):\n",
    "            end_quote = input_text[3:].rindex('\"\"')\n",
    "            assert end_quote > 0, 'improper reply'\n",
    "            output_text = QS + '\"' + input_text[3:end_quote] + '\"' + QE+RS+input_text[end_quote+2:-1]+RE\n",
    "            return output_text\n",
    "    return input_text\n",
    "\n",
    "def rt_tokenizer(input_text):\n",
    "    if is_retweet(input_text):\n",
    "        return RT+input_text[2:]\n",
    "    return input_text\n",
    "\n",
    "def double_quote_cleaner(input_text):\n",
    "    output_text = input_text\n",
    "    while '\"\"' in output_text:\n",
    "        output_text = output_text.replace('\"\"', '\"')\n",
    "    return output_text\n",
    "\n",
    "def at_tokenizer(input_text):\n",
    "    return input_text.replace('@', '<AT>@')"
   ]
  },
  {
   "cell_type": "code",
   "execution_count": 8,
   "id": "instrumental-ferry",
   "metadata": {},
   "outputs": [],
   "source": [
    "def tokenize(output_df):\n",
    "    output_df = output_df.copy()\n",
    "    \n",
    "    # Remove quotes that aren't categorized (e.g. not full quotes, quote-replies)\n",
    "    output_df['text'] = output_df[output_df.text.apply(lambda x: not (is_quote(x) & is_remainder(x)))]['text']\n",
    "    output_df = output_df.dropna()\n",
    "    output_df['text'] = output_df.text.apply(lambda x: quote_tokenizer(x))\n",
    "    output_df['text'] = output_df.text.apply(lambda x: rt_tokenizer(x))\n",
    "    output_df['text'] = output_df.text.apply(lambda x: double_quote_cleaner(x))\n",
    "    output_df['text'] = output_df.text.apply(lambda x: at_tokenizer(x))\n",
    "    \n",
    "    return output_df"
   ]
  },
  {
   "cell_type": "code",
   "execution_count": 9,
   "id": "narrow-projector",
   "metadata": {},
   "outputs": [],
   "source": [
    "# Joining 'Threads' together\n",
    "\n",
    "def possible_thread(input_string):\n",
    "    return '..' in input_string[-2:]\n",
    "\n",
    "def possible_continuation(input_string):\n",
    "    return '..' in input_string[:2] and '..' in input_string[-2]\n",
    "\n",
    "def possible_end(input_string):\n",
    "    return '..' in input_string[:2]\n",
    "                                                             \n",
    "\n",
    "def period_remover(input_string, operation):\n",
    "    s = input_string\n",
    "    if operation == 'start': \n",
    "        while s[-1] == ('.' or '…'):\n",
    "            s = s[:-1]\n",
    "        s = s+\" \"\n",
    "    if operation == 'middle':\n",
    "        while s[0] == ('.' or '…'):\n",
    "            s = s[1:]\n",
    "        while s[-1] == ('.' or '…'):\n",
    "            s = s[:-1]\n",
    "        s = s+\" \"\n",
    "    if operation == 'end':\n",
    "        while s[0] == '.':\n",
    "            s = s[1:]\n",
    "    return s\n",
    "\n",
    "# Didn't build it to handle the last element ending in '..'\n",
    "def thread_joiner(input_df):\n",
    "    joined_threads = []\n",
    "    output_df = input_df.copy()\n",
    "    \n",
    "    output_df['start_thread'] = output_df.text.apply(lambda x: possible_thread(x)) # True/False\n",
    "    output_df['cont_thread'] = output_df.text.apply(lambda x: possible_continuation(x)) # True/False\n",
    "    output_df['end_thread'] = output_df.text.apply(lambda x: possible_end(x)) # True/False\n",
    "    output_df['flag'] = False\n",
    "    \n",
    "    for i in range(len(output_df)):\n",
    "        if output_df.iloc[i]['start_thread'] and \\\n",
    "        (output_df.iloc[i+1]['cont_thread'] or output_df.iloc[i+1]['end_thread']):\n",
    "            text = period_remover(output_df.iloc[i]['text'], 'start')\n",
    "            j = i+1\n",
    "            while output_df.iloc[j]['cont_thread']:\n",
    "                j+=1\n",
    "                output_df.iloc[j,-1] = True\n",
    "            for k in range(i+1, j):\n",
    "                text += period_remover(output_df.iloc[k]['text'], 'middle')\n",
    "                output_df.iloc[k,-1] = True\n",
    "            output_df.iloc[j,-1] = True\n",
    "            text += period_remover(output_df.iloc[j]['text'], 'end')\n",
    "            \n",
    "            \n",
    "            output_df.iloc[i,0] = text\n",
    "            joined_threads.append(text)\n",
    "    output_df = output_df.drop(output_df[output_df['flag']==True].index)\n",
    "    output_df = output_df.drop(['start_thread', 'cont_thread','end_thread', 'flag'], axis=1)\n",
    "    output_df = output_df.dropna()\n",
    "    output_df = output_df.reset_index(drop=True)\n",
    "    return output_df, joined_threads         \n",
    "    "
   ]
  },
  {
   "cell_type": "code",
   "execution_count": 10,
   "id": "brown-benefit",
   "metadata": {},
   "outputs": [
    {
     "name": "stdout",
     "output_type": "stream",
     "text": [
      "4906 of 56571 records removed.\n",
      "51665 record remain.\n"
     ]
    }
   ],
   "source": [
    "clean_df = text_cleaner(df)\n",
    "clean_df, joined_thread_record = thread_joiner(clean_df)\n",
    "clean_df = tokenize(clean_df)\n",
    "print(f'{len(df)-len(clean_df)} of {len(df)} records removed.')\n",
    "print(f'{len(clean_df)} record remain.')"
   ]
  },
  {
   "cell_type": "markdown",
   "id": "perfect-burst",
   "metadata": {},
   "source": [
    "## No significant loss in a given time period."
   ]
  },
  {
   "cell_type": "code",
   "execution_count": 15,
   "id": "furnished-physics",
   "metadata": {},
   "outputs": [
    {
     "data": {
      "image/png": "[encoded data removed]",
      "text/plain": [
       "<Figure size 432x288 with 1 Axes>"
      ]
     },
     "metadata": {
      "needs_background": "light"
     },
     "output_type": "display_data"
    }
   ],
   "source": [
    "tweets_per_year = df.groupby('year').agg('count')['id']\n",
    "_ = sns.scatterplot(data=tweets_per_year)\n",
    "plt.ylabel('tweets')\n",
    "plt.show()"
   ]
  },
  {
   "cell_type": "code",
   "execution_count": 16,
   "id": "competitive-quarterly",
   "metadata": {},
   "outputs": [
    {
     "data": {
      "image/png": "[encoded data removed]",
      "text/plain": [
       "<Figure size 432x288 with 1 Axes>"
      ]
     },
     "metadata": {
      "needs_background": "light"
     },
     "output_type": "display_data"
    }
   ],
   "source": [
    "tweets_per_year = clean_df.groupby('year').agg('count')['id']\n",
    "_ = sns.scatterplot(data=tweets_per_year)\n",
    "plt.ylabel('tweets')\n",
    "plt.show()"
   ]
  },
  {
   "cell_type": "code",
   "execution_count": 19,
   "id": "municipal-carry",
   "metadata": {},
   "outputs": [],
   "source": [
    "clean_df.to_csv('tokenized_clean_tweets.csv',index=False)"
   ]
  },
  {
   "cell_type": "code",
   "execution_count": 15,
   "id": "concerned-memphis",
   "metadata": {},
   "outputs": [],
   "source": [
    "# Untokenized Tweets for some EDA.\n",
    "untokenized_df = text_cleaner(df)\n",
    "untokenized_df, _ = thread_joiner(untokenized_df)\n",
    "untokenized_df = untokenized_df.dropna()\n",
    "untokenized_df.to_csv('untokenized_df.csv', index=False)"
   ]
  },
  {
   "cell_type": "code",
   "execution_count": 17,
   "id": "chief-saskatchewan",
   "metadata": {},
   "outputs": [],
   "source": [
    "# Tweets from the 'presidential' era\n",
    "clean_df[clean_df.year >= 2015].to_csv('tokenized_clean_tweets_recent.csv', index=False)"
   ]
  },
  {
   "cell_type": "code",
   "execution_count": 18,
   "id": "abstract-fight",
   "metadata": {},
   "outputs": [],
   "source": [
    "# recent, no quotes/RT\n",
    "\n",
    "recent_raw = text_cleaner(df, True, True)\n",
    "recent_raw, _ = thread_joiner(recent_raw)\n",
    "recent_raw = recent_raw.dropna()\n",
    "recent_raw[recent_raw.year >= 2015].to_csv('recent_raw_tweets.csv', index=False)\n"
   ]
  },
  {
   "cell_type": "code",
   "execution_count": null,
   "id": "consolidated-fault",
   "metadata": {},
   "outputs": [],
   "source": []
  }
 ],
 "metadata": {
  "kernelspec": {
   "display_name": "Python 3",
   "language": "python",
   "name": "python3"
  },
  "language_info": {
   "codemirror_mode": {
    "name": "ipython",
    "version": 3
   },
   "file_extension": ".py",
   "mimetype": "text/x-python",
   "name": "python",
   "nbconvert_exporter": "python",
   "pygments_lexer": "ipython3",
   "version": "3.9.1"
  }
 },
 "nbformat": 4,
 "nbformat_minor": 5
}
